{
 "cells": [
  {
   "cell_type": "markdown",
   "id": "4acfdf57",
   "metadata": {},
   "source": [
    "# Impotant Modules id Data Analysis with Python\n",
    "## Pandas\n",
    "![Logo Pandas](https://upload.wikimedia.org/wikipedia/commons/thumb/e/ed/Pandas_logo.svg/300px-Pandas_logo.svg.png)\n",
    "teks tekst **teks** tekst teks tekst teks tekst teks tekst teks tekst\n",
    "\n",
    "[more details](https://pandas.pydata.org/)\n",
    "## Numpy\n",
    "- teks tekst teks tekst teks tekst teks tekst teks tekst teks tekst \n",
    "- tekstekst\n",
    "\n",
    "        for i in range(10):\n",
    "            print(i)\n",
    "            \n",
    "2\\*2"
   ]
  },
  {
   "cell_type": "code",
   "execution_count": null,
   "id": "59e20d3c",
   "metadata": {},
   "outputs": [],
   "source": []
  }
 ],
 "metadata": {
  "kernelspec": {
   "display_name": "Python 3",
   "language": "python",
   "name": "python3"
  },
  "language_info": {
   "codemirror_mode": {
    "name": "ipython",
    "version": 3
   },
   "file_extension": ".py",
   "mimetype": "text/x-python",
   "name": "python",
   "nbconvert_exporter": "python",
   "pygments_lexer": "ipython3",
   "version": "3.8.8"
  }
 },
 "nbformat": 4,
 "nbformat_minor": 5
}
