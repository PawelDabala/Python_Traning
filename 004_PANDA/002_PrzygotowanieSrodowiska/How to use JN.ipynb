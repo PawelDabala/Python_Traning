{
 "cells": [
  {
   "cell_type": "markdown",
   "id": "5515cf15",
   "metadata": {},
   "source": [
    "print(\"Hello\") "
   ]
  },
  {
   "cell_type": "markdown",
   "id": "b6f7ab23",
   "metadata": {},
   "source": [
    "# We Learn how tu use Jupyter Notebook"
   ]
  },
  {
   "cell_type": "markdown",
   "id": "53762ef5",
   "metadata": {},
   "source": [
    "5"
   ]
  },
  {
   "cell_type": "markdown",
   "id": "03d133ce",
   "metadata": {},
   "source": [
    "6"
   ]
  },
  {
   "cell_type": "code",
   "execution_count": null,
   "id": "9971d556",
   "metadata": {},
   "outputs": [],
   "source": [
    "5"
   ]
  },
  {
   "cell_type": "code",
   "execution_count": null,
   "id": "d6c68ccc",
   "metadata": {},
   "outputs": [],
   "source": [
    "for i in range(10):\n",
    "    print(i)"
   ]
  },
  {
   "cell_type": "code",
   "execution_count": null,
   "id": "b2bb9ec5",
   "metadata": {},
   "outputs": [],
   "source": [
    "print('the end')\n"
   ]
  },
  {
   "cell_type": "markdown",
   "id": "2bb3d9d2",
   "metadata": {},
   "source": [
    " "
   ]
  }
 ],
 "metadata": {
  "kernelspec": {
   "display_name": "Python 3",
   "language": "python",
   "name": "python3"
  },
  "language_info": {
   "codemirror_mode": {
    "name": "ipython",
    "version": 3
   },
   "file_extension": ".py",
   "mimetype": "text/x-python",
   "name": "python",
   "nbconvert_exporter": "python",
   "pygments_lexer": "ipython3",
   "version": "3.8.8"
  }
 },
 "nbformat": 4,
 "nbformat_minor": 5
}
