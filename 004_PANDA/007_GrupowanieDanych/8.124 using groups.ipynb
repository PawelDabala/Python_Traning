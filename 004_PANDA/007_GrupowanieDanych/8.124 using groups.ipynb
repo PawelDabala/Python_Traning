{
 "cells": [
  {
   "cell_type": "code",
   "execution_count": 1,
   "id": "fa16e1fa",
   "metadata": {},
   "outputs": [],
   "source": [
    "import pandas as pd\n",
    "import numpy as np\n",
    "import matplotlib.pyplot as plt\n",
    "import math as math\n",
    "import random as rd\n",
    "from datetime import datetime\n",
    "from datetime import timedelta\n",
    "import time"
   ]
  },
  {
   "cell_type": "code",
   "execution_count": 2,
   "id": "f82890a8",
   "metadata": {},
   "outputs": [],
   "source": [
    "products = pd.read_csv('WA_Sales_Products_2012-14.csv')"
   ]
  },
  {
   "cell_type": "code",
   "execution_count": 3,
   "id": "d08ab9e3",
   "metadata": {},
   "outputs": [],
   "source": [
    "groups = products.groupby(by='Retailer country')"
   ]
  },
  {
   "cell_type": "code",
   "execution_count": null,
   "id": "327a25ad",
   "metadata": {},
   "outputs": [],
   "source": []
  }
 ],
 "metadata": {
  "kernelspec": {
   "display_name": "Python 3 (ipykernel)",
   "language": "python",
   "name": "python3"
  },
  "language_info": {
   "codemirror_mode": {
    "name": "ipython",
    "version": 3
   },
   "file_extension": ".py",
   "mimetype": "text/x-python",
   "name": "python",
   "nbconvert_exporter": "python",
   "pygments_lexer": "ipython3",
   "version": "3.8.12"
  }
 },
 "nbformat": 4,
 "nbformat_minor": 5
}
