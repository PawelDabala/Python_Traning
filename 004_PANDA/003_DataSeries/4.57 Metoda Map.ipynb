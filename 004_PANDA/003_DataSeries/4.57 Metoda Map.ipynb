{
 "cells": [
  {
   "cell_type": "code",
   "execution_count": 1,
   "id": "713c24f2",
   "metadata": {},
   "outputs": [],
   "source": [
    "import pandas as pd\n",
    "import numpy as np\n",
    "import matplotlib.pyplot as plt\n",
    "import math as math\n"
   ]
  },
  {
   "cell_type": "code",
   "execution_count": 2,
   "id": "50586d5e",
   "metadata": {},
   "outputs": [
    {
     "data": {
      "text/plain": [
       "Andy       5\n",
       "Bob        3\n",
       "Chris      2\n",
       "Dirk       4\n",
       "Francis    3\n",
       "George     4\n",
       "Henry      4\n",
       "Ivan       5\n",
       "dtype: int64"
      ]
     },
     "execution_count": 2,
     "metadata": {},
     "output_type": "execute_result"
    }
   ],
   "source": [
    "team = pd.Series(data=[5,3,2,4,3,4,4,5], index=['Andy', 'Bob', 'Chris', 'Dirk', 'Francis', 'George', 'Henry', 'Ivan'])\n",
    "team"
   ]
  },
  {
   "cell_type": "code",
   "execution_count": 4,
   "id": "b811eeba",
   "metadata": {},
   "outputs": [
    {
     "data": {
      "text/plain": [
       "1      C\n",
       "2      B\n",
       "3      A\n",
       "4     A+\n",
       "5    A++\n",
       "dtype: object"
      ]
     },
     "execution_count": 4,
     "metadata": {},
     "output_type": "execute_result"
    }
   ],
   "source": [
    "notes = pd.Series(data=['C', 'B','A', 'A+', 'A++'], index=[1,2,3,4,5])\n",
    "notes"
   ]
  },
  {
   "cell_type": "code",
   "execution_count": 5,
   "id": "2576b7cd",
   "metadata": {},
   "outputs": [
    {
     "data": {
      "text/plain": [
       "Andy       A++\n",
       "Bob          A\n",
       "Chris        B\n",
       "Dirk        A+\n",
       "Francis      A\n",
       "George      A+\n",
       "Henry       A+\n",
       "Ivan       A++\n",
       "dtype: object"
      ]
     },
     "execution_count": 5,
     "metadata": {},
     "output_type": "execute_result"
    }
   ],
   "source": [
    "team.map(notes)"
   ]
  },
  {
   "cell_type": "code",
   "execution_count": 6,
   "id": "54728203",
   "metadata": {},
   "outputs": [
    {
     "data": {
      "text/plain": [
       "{1: 'C', 2: 'B', 3: 'A', 4: 'A+', 5: 'A++'}"
      ]
     },
     "execution_count": 6,
     "metadata": {},
     "output_type": "execute_result"
    }
   ],
   "source": [
    "note_dict = {1: 'C', 2: 'B', 3: 'A', 4: 'A+', 5: 'A++'}\n",
    "note_dict"
   ]
  },
  {
   "cell_type": "code",
   "execution_count": 8,
   "id": "ef12e24a",
   "metadata": {},
   "outputs": [],
   "source": [
    "teamNotes = team.map(note_dict)"
   ]
  },
  {
   "cell_type": "code",
   "execution_count": 10,
   "id": "d1ae66b3",
   "metadata": {},
   "outputs": [
    {
     "data": {
      "text/plain": [
       "Andy       A++\n",
       "Bob          A\n",
       "Chris        B\n",
       "Dirk        A+\n",
       "Francis      A\n",
       "George      A+\n",
       "Henry       A+\n",
       "Ivan       A++\n",
       "dtype: object"
      ]
     },
     "execution_count": 10,
     "metadata": {},
     "output_type": "execute_result"
    }
   ],
   "source": [
    "teamNotes\n",
    "\n"
   ]
  },
  {
   "cell_type": "code",
   "execution_count": null,
   "id": "109d3db4",
   "metadata": {},
   "outputs": [],
   "source": []
  }
 ],
 "metadata": {
  "kernelspec": {
   "display_name": "Python 3 (ipykernel)",
   "language": "python",
   "name": "python3"
  },
  "language_info": {
   "codemirror_mode": {
    "name": "ipython",
    "version": 3
   },
   "file_extension": ".py",
   "mimetype": "text/x-python",
   "name": "python",
   "nbconvert_exporter": "python",
   "pygments_lexer": "ipython3",
   "version": "3.8.12"
  }
 },
 "nbformat": 4,
 "nbformat_minor": 5
}
