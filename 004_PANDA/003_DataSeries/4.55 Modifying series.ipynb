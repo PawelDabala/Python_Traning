{
 "cells": [
  {
   "cell_type": "code",
   "execution_count": 1,
   "id": "c14ba754",
   "metadata": {},
   "outputs": [],
   "source": [
    "import pandas as pd\n",
    "import numpy as np\n",
    "import matplotlib.pyplot as plt\n",
    "import math as math"
   ]
  },
  {
   "cell_type": "code",
   "execution_count": 2,
   "id": "be938459",
   "metadata": {},
   "outputs": [],
   "source": [
    "pok = pd.read_csv(\"pokemon.csv\", usecols=['Attack', 'Name'], index_col='Name', squeeze=True)"
   ]
  },
  {
   "cell_type": "code",
   "execution_count": 3,
   "id": "34f02730",
   "metadata": {},
   "outputs": [
    {
     "data": {
      "text/plain": [
       "Name\n",
       "Bulbasaur                 49\n",
       "Ivysaur                   62\n",
       "Venusaur                  82\n",
       "VenusaurMega Venusaur    100\n",
       "Charmander                52\n",
       "Name: Attack, dtype: int64"
      ]
     },
     "execution_count": 3,
     "metadata": {},
     "output_type": "execute_result"
    }
   ],
   "source": [
    "pok.head()"
   ]
  },
  {
   "cell_type": "code",
   "execution_count": 4,
   "id": "a2a63ad6",
   "metadata": {},
   "outputs": [
    {
     "data": {
      "text/plain": [
       "Name\n",
       "Bulbasaur                 4900\n",
       "Ivysaur                   6200\n",
       "Venusaur                  8200\n",
       "VenusaurMega Venusaur    10000\n",
       "Charmander                5200\n",
       "                         ...  \n",
       "Diancie                  10000\n",
       "DiancieMega Diancie      16000\n",
       "HoopaHoopa Confined      11000\n",
       "HoopaHoopa Unbound       16000\n",
       "Volcanion                11000\n",
       "Name: Attack, Length: 800, dtype: int64"
      ]
     },
     "execution_count": 4,
     "metadata": {},
     "output_type": "execute_result"
    }
   ],
   "source": [
    "pok * 100\n"
   ]
  },
  {
   "cell_type": "code",
   "execution_count": 5,
   "id": "025c6c2a",
   "metadata": {},
   "outputs": [],
   "source": [
    "pok100 = pok * 100\n"
   ]
  },
  {
   "cell_type": "code",
   "execution_count": 6,
   "id": "4a73bb31",
   "metadata": {},
   "outputs": [],
   "source": [
    "pok = pd.read_csv(\"pokemon.csv\", usecols=['Type 1', 'Name'], index_col='Name', squeeze=True)"
   ]
  },
  {
   "cell_type": "code",
   "execution_count": 7,
   "id": "68bb75c3",
   "metadata": {},
   "outputs": [
    {
     "data": {
      "text/plain": [
       "Name\n",
       "Bulbasaur                Grass\n",
       "Ivysaur                  Grass\n",
       "Venusaur                 Grass\n",
       "VenusaurMega Venusaur    Grass\n",
       "Charmander                Fire\n",
       "Name: Type 1, dtype: object"
      ]
     },
     "execution_count": 7,
     "metadata": {},
     "output_type": "execute_result"
    }
   ],
   "source": [
    "pok.head()"
   ]
  },
  {
   "cell_type": "code",
   "execution_count": 8,
   "id": "198087be",
   "metadata": {},
   "outputs": [
    {
     "ename": "AttributeError",
     "evalue": "'StringMethods' object has no attribute 'head'",
     "output_type": "error",
     "traceback": [
      "\u001b[1;31m---------------------------------------------------------------------------\u001b[0m",
      "\u001b[1;31mAttributeError\u001b[0m                            Traceback (most recent call last)",
      "\u001b[1;32m~\\AppData\\Local\\Temp/ipykernel_27220/1026804354.py\u001b[0m in \u001b[0;36m<module>\u001b[1;34m\u001b[0m\n\u001b[1;32m----> 1\u001b[1;33m \u001b[0mpok\u001b[0m\u001b[1;33m.\u001b[0m\u001b[0mstr\u001b[0m\u001b[1;33m.\u001b[0m\u001b[0mhead\u001b[0m\u001b[1;33m(\u001b[0m\u001b[1;33m)\u001b[0m\u001b[1;33m\u001b[0m\u001b[1;33m\u001b[0m\u001b[0m\n\u001b[0m",
      "\u001b[1;31mAttributeError\u001b[0m: 'StringMethods' object has no attribute 'head'"
     ]
    }
   ],
   "source": [
    "pok.str.head()"
   ]
  },
  {
   "cell_type": "code",
   "execution_count": 10,
   "id": "f3fa0ef6",
   "metadata": {},
   "outputs": [],
   "source": [
    "pokUpper = pok.str.upper()"
   ]
  },
  {
   "cell_type": "code",
   "execution_count": 11,
   "id": "a77134b0",
   "metadata": {},
   "outputs": [],
   "source": [
    "pokWithType = \"TYPE:\" + pok.str.upper()"
   ]
  },
  {
   "cell_type": "code",
   "execution_count": 12,
   "id": "89c94180",
   "metadata": {},
   "outputs": [
    {
     "data": {
      "text/plain": [
       "Name\n",
       "Bulbasaur                  TYPE:GRASS\n",
       "Ivysaur                    TYPE:GRASS\n",
       "Venusaur                   TYPE:GRASS\n",
       "VenusaurMega Venusaur      TYPE:GRASS\n",
       "Charmander                  TYPE:FIRE\n",
       "                             ...     \n",
       "Diancie                     TYPE:ROCK\n",
       "DiancieMega Diancie         TYPE:ROCK\n",
       "HoopaHoopa Confined      TYPE:PSYCHIC\n",
       "HoopaHoopa Unbound       TYPE:PSYCHIC\n",
       "Volcanion                   TYPE:FIRE\n",
       "Name: Type 1, Length: 800, dtype: object"
      ]
     },
     "execution_count": 12,
     "metadata": {},
     "output_type": "execute_result"
    }
   ],
   "source": [
    "pokWithType\n"
   ]
  },
  {
   "cell_type": "code",
   "execution_count": 13,
   "id": "808da95d",
   "metadata": {},
   "outputs": [],
   "source": [
    "def ReplaceType(oldType):\n",
    "    if oldType == \"Grass\" or oldType == \"Ground\":\n",
    "        return \"Nature\"\n",
    "    else:\n",
    "        return oldType"
   ]
  },
  {
   "cell_type": "code",
   "execution_count": 14,
   "id": "4c7f1858",
   "metadata": {},
   "outputs": [],
   "source": [
    "pokNature = pok.apply(ReplaceType)"
   ]
  },
  {
   "cell_type": "code",
   "execution_count": 15,
   "id": "dca6911c",
   "metadata": {},
   "outputs": [
    {
     "data": {
      "text/plain": [
       "Name\n",
       "Bulbasaur                Nature\n",
       "Ivysaur                  Nature\n",
       "Venusaur                 Nature\n",
       "VenusaurMega Venusaur    Nature\n",
       "Charmander                 Fire\n",
       "Name: Type 1, dtype: object"
      ]
     },
     "execution_count": 15,
     "metadata": {},
     "output_type": "execute_result"
    }
   ],
   "source": [
    "pokNature.head()"
   ]
  },
  {
   "cell_type": "code",
   "execution_count": 16,
   "id": "681dc1e8",
   "metadata": {},
   "outputs": [],
   "source": [
    "pokLambda = pok.apply(lambda aText: aText.upper())"
   ]
  },
  {
   "cell_type": "code",
   "execution_count": 17,
   "id": "a0b1b946",
   "metadata": {},
   "outputs": [
    {
     "data": {
      "text/plain": [
       "Name\n",
       "Bulbasaur                GRASS\n",
       "Ivysaur                  GRASS\n",
       "Venusaur                 GRASS\n",
       "VenusaurMega Venusaur    GRASS\n",
       "Charmander                FIRE\n",
       "Name: Type 1, dtype: object"
      ]
     },
     "execution_count": 17,
     "metadata": {},
     "output_type": "execute_result"
    }
   ],
   "source": [
    "pokLambda.head()\n"
   ]
  },
  {
   "cell_type": "code",
   "execution_count": null,
   "id": "852491eb",
   "metadata": {},
   "outputs": [],
   "source": []
  }
 ],
 "metadata": {
  "kernelspec": {
   "display_name": "Python 3 (ipykernel)",
   "language": "python",
   "name": "python3"
  },
  "language_info": {
   "codemirror_mode": {
    "name": "ipython",
    "version": 3
   },
   "file_extension": ".py",
   "mimetype": "text/x-python",
   "name": "python",
   "nbconvert_exporter": "python",
   "pygments_lexer": "ipython3",
   "version": "3.8.12"
  }
 },
 "nbformat": 4,
 "nbformat_minor": 5
}
