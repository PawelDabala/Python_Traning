{
 "cells": [
  {
   "cell_type": "code",
   "execution_count": 1,
   "id": "e2b741ef",
   "metadata": {},
   "outputs": [],
   "source": [
    "import pandas as pd\n",
    "import numpy as np\n",
    "import matplotlib.pyplot as plt\n",
    "import math as math\n"
   ]
  },
  {
   "cell_type": "code",
   "execution_count": 2,
   "id": "35fc2def",
   "metadata": {},
   "outputs": [],
   "source": [
    "pok = pd.read_csv(\"pokemon.csv\", usecols=['Name'], squeeze=True)"
   ]
  },
  {
   "cell_type": "code",
   "execution_count": 3,
   "id": "4d6872ea",
   "metadata": {},
   "outputs": [
    {
     "data": {
      "text/plain": [
       "'Machoke'"
      ]
     },
     "execution_count": 3,
     "metadata": {},
     "output_type": "execute_result"
    }
   ],
   "source": [
    "pok[73]\n"
   ]
  },
  {
   "cell_type": "code",
   "execution_count": 4,
   "id": "26d4543e",
   "metadata": {},
   "outputs": [
    {
     "data": {
      "text/plain": [
       "64    Arcanine\n",
       "73     Machoke\n",
       "Name: Name, dtype: object"
      ]
     },
     "execution_count": 4,
     "metadata": {},
     "output_type": "execute_result"
    }
   ],
   "source": [
    "pok[[64, 73]]"
   ]
  },
  {
   "cell_type": "code",
   "execution_count": 5,
   "id": "ae238630",
   "metadata": {},
   "outputs": [
    {
     "data": {
      "text/plain": [
       "0          20 to 99 employees\n",
       "1    10,000 or more employees\n",
       "2          20 to 99 employees\n",
       "3        100 to 499 employees\n",
       "4    10,000 or more employees\n",
       "Name: CompanySize, dtype: object"
      ]
     },
     "execution_count": 5,
     "metadata": {},
     "output_type": "execute_result"
    }
   ],
   "source": [
    "surveys = pd.read_csv(\"survey_results_public.csv\", usecols=['CompanySize'], squeeze=True, low_memory=False)\n",
    "surveys.head()"
   ]
  },
  {
   "cell_type": "code",
   "execution_count": 6,
   "id": "21addce0",
   "metadata": {},
   "outputs": [
    {
     "data": {
      "text/plain": [
       "'100 to 499 employees'"
      ]
     },
     "execution_count": 6,
     "metadata": {},
     "output_type": "execute_result"
    }
   ],
   "source": [
    "surveys[3]\n"
   ]
  },
  {
   "cell_type": "code",
   "execution_count": 8,
   "id": "c367ca07",
   "metadata": {},
   "outputs": [
    {
     "data": {
      "text/plain": [
       "1     10,000 or more employees\n",
       "2           20 to 99 employees\n",
       "3         100 to 499 employees\n",
       "4     10,000 or more employees\n",
       "5           10 to 19 employees\n",
       "6     10,000 or more employees\n",
       "7           10 to 19 employees\n",
       "8         100 to 499 employees\n",
       "9         500 to 999 employees\n",
       "10    1,000 to 4,999 employees\n",
       "Name: CompanySize, dtype: object"
      ]
     },
     "execution_count": 8,
     "metadata": {},
     "output_type": "execute_result"
    }
   ],
   "source": [
    "surveys[1:11]"
   ]
  },
  {
   "cell_type": "code",
   "execution_count": 9,
   "id": "10294d2e",
   "metadata": {},
   "outputs": [
    {
     "data": {
      "text/plain": [
       "'100 to 499 employees'"
      ]
     },
     "execution_count": 9,
     "metadata": {},
     "output_type": "execute_result"
    }
   ],
   "source": [
    "surveys[12345]"
   ]
  },
  {
   "cell_type": "code",
   "execution_count": 10,
   "id": "30c4ff98",
   "metadata": {},
   "outputs": [],
   "source": [
    "surveys.sort_values(inplace=True)"
   ]
  },
  {
   "cell_type": "code",
   "execution_count": 11,
   "id": "103e8821",
   "metadata": {},
   "outputs": [
    {
     "data": {
      "text/plain": [
       "'100 to 499 employees'"
      ]
     },
     "execution_count": 11,
     "metadata": {},
     "output_type": "execute_result"
    }
   ],
   "source": [
    "surveys[3]"
   ]
  },
  {
   "cell_type": "code",
   "execution_count": 12,
   "id": "41e56ccc",
   "metadata": {},
   "outputs": [
    {
     "data": {
      "text/plain": [
       "62879    1,000 to 4,999 employees\n",
       "37512    1,000 to 4,999 employees\n",
       "27661    1,000 to 4,999 employees\n",
       "50084    1,000 to 4,999 employees\n",
       "6857     1,000 to 4,999 employees\n",
       "50081    1,000 to 4,999 employees\n",
       "37521    1,000 to 4,999 employees\n",
       "15017    1,000 to 4,999 employees\n",
       "37525    1,000 to 4,999 employees\n",
       "37528    1,000 to 4,999 employees\n",
       "Name: CompanySize, dtype: object"
      ]
     },
     "execution_count": 12,
     "metadata": {},
     "output_type": "execute_result"
    }
   ],
   "source": [
    "surveys[1:11]"
   ]
  },
  {
   "cell_type": "code",
   "execution_count": 13,
   "id": "f6bd73ec",
   "metadata": {},
   "outputs": [],
   "source": [
    "surveys.reset_index(drop=True, inplace=True)"
   ]
  },
  {
   "cell_type": "code",
   "execution_count": 14,
   "id": "ce79a1ac",
   "metadata": {},
   "outputs": [
    {
     "data": {
      "text/plain": [
       "1     1,000 to 4,999 employees\n",
       "2     1,000 to 4,999 employees\n",
       "3     1,000 to 4,999 employees\n",
       "4     1,000 to 4,999 employees\n",
       "5     1,000 to 4,999 employees\n",
       "6     1,000 to 4,999 employees\n",
       "7     1,000 to 4,999 employees\n",
       "8     1,000 to 4,999 employees\n",
       "9     1,000 to 4,999 employees\n",
       "10    1,000 to 4,999 employees\n",
       "Name: CompanySize, dtype: object"
      ]
     },
     "execution_count": 14,
     "metadata": {},
     "output_type": "execute_result"
    }
   ],
   "source": [
    "surveys[1:11]"
   ]
  },
  {
   "cell_type": "code",
   "execution_count": null,
   "id": "6d3da7ea",
   "metadata": {},
   "outputs": [],
   "source": []
  }
 ],
 "metadata": {
  "kernelspec": {
   "display_name": "Python 3 (ipykernel)",
   "language": "python",
   "name": "python3"
  },
  "language_info": {
   "codemirror_mode": {
    "name": "ipython",
    "version": 3
   },
   "file_extension": ".py",
   "mimetype": "text/x-python",
   "name": "python",
   "nbconvert_exporter": "python",
   "pygments_lexer": "ipython3",
   "version": "3.8.12"
  }
 },
 "nbformat": 4,
 "nbformat_minor": 5
}
