{
 "cells": [
  {
   "cell_type": "code",
   "execution_count": 1,
   "id": "e9329a89",
   "metadata": {},
   "outputs": [],
   "source": [
    "import pandas as pd\n",
    "import numpy as np\n",
    "import matplotlib.pyplot as plt\n",
    "import math as math"
   ]
  },
  {
   "cell_type": "code",
   "execution_count": 2,
   "id": "c05d3714",
   "metadata": {},
   "outputs": [],
   "source": [
    "cities = ['London', 'Berlin', 'Warszawa', 'Paris']\n",
    "sCities = pd.Series(cities)"
   ]
  },
  {
   "cell_type": "code",
   "execution_count": 3,
   "id": "94dd79ae",
   "metadata": {},
   "outputs": [
    {
     "data": {
      "text/plain": [
       "0      London\n",
       "1      Berlin\n",
       "2    Warszawa\n",
       "3       Paris\n",
       "dtype: object"
      ]
     },
     "execution_count": 3,
     "metadata": {},
     "output_type": "execute_result"
    }
   ],
   "source": [
    "sCities"
   ]
  },
  {
   "cell_type": "code",
   "execution_count": 4,
   "id": "ecca4016",
   "metadata": {},
   "outputs": [
    {
     "data": {
      "text/plain": [
       "4"
      ]
     },
     "execution_count": 4,
     "metadata": {},
     "output_type": "execute_result"
    }
   ],
   "source": [
    "sCities.size"
   ]
  },
  {
   "cell_type": "code",
   "execution_count": 5,
   "id": "cb3bd945",
   "metadata": {},
   "outputs": [
    {
     "data": {
      "text/plain": [
       "32"
      ]
     },
     "execution_count": 5,
     "metadata": {},
     "output_type": "execute_result"
    }
   ],
   "source": [
    "sCities.nbytes\n"
   ]
  },
  {
   "cell_type": "code",
   "execution_count": 6,
   "id": "684fe36b",
   "metadata": {},
   "outputs": [
    {
     "data": {
      "text/plain": [
       "True"
      ]
     },
     "execution_count": 6,
     "metadata": {},
     "output_type": "execute_result"
    }
   ],
   "source": [
    "sCities.is_unique"
   ]
  },
  {
   "cell_type": "code",
   "execution_count": 7,
   "id": "4e0ae26e",
   "metadata": {},
   "outputs": [
    {
     "data": {
      "text/plain": [
       "False"
      ]
     },
     "execution_count": 7,
     "metadata": {},
     "output_type": "execute_result"
    }
   ],
   "source": [
    "sCities.is_monotonic"
   ]
  },
  {
   "cell_type": "code",
   "execution_count": 8,
   "id": "0789a595",
   "metadata": {},
   "outputs": [
    {
     "data": {
      "text/plain": [
       "RangeIndex(start=0, stop=4, step=1)"
      ]
     },
     "execution_count": 8,
     "metadata": {},
     "output_type": "execute_result"
    }
   ],
   "source": [
    "sCities.index"
   ]
  },
  {
   "cell_type": "code",
   "execution_count": 9,
   "id": "37482216",
   "metadata": {},
   "outputs": [
    {
     "data": {
      "text/plain": [
       "array(['London', 'Berlin', 'Warszawa', 'Paris'], dtype=object)"
      ]
     },
     "execution_count": 9,
     "metadata": {},
     "output_type": "execute_result"
    }
   ],
   "source": [
    "sCities.values"
   ]
  },
  {
   "cell_type": "code",
   "execution_count": 10,
   "id": "4008a7fc",
   "metadata": {},
   "outputs": [
    {
     "data": {
      "text/plain": [
       "dtype('O')"
      ]
     },
     "execution_count": 10,
     "metadata": {},
     "output_type": "execute_result"
    }
   ],
   "source": [
    "sCities.dtype"
   ]
  },
  {
   "cell_type": "code",
   "execution_count": 11,
   "id": "a469a5ba",
   "metadata": {},
   "outputs": [
    {
     "data": {
      "text/plain": [
       "dtype('O')"
      ]
     },
     "execution_count": 11,
     "metadata": {},
     "output_type": "execute_result"
    }
   ],
   "source": [
    "sCities.dtypes"
   ]
  },
  {
   "cell_type": "code",
   "execution_count": 12,
   "id": "ce5a168b",
   "metadata": {},
   "outputs": [
    {
     "data": {
      "text/plain": [
       "(4,)"
      ]
     },
     "execution_count": 12,
     "metadata": {},
     "output_type": "execute_result"
    }
   ],
   "source": [
    "sCities.shape"
   ]
  },
  {
   "cell_type": "code",
   "execution_count": 13,
   "id": "db006ab8",
   "metadata": {},
   "outputs": [
    {
     "data": {
      "text/plain": [
       "4"
      ]
     },
     "execution_count": 13,
     "metadata": {},
     "output_type": "execute_result"
    }
   ],
   "source": [
    "sCities.size\n"
   ]
  },
  {
   "cell_type": "code",
   "execution_count": null,
   "id": "095235a5",
   "metadata": {},
   "outputs": [],
   "source": []
  }
 ],
 "metadata": {
  "kernelspec": {
   "display_name": "Python 3 (ipykernel)",
   "language": "python",
   "name": "python3"
  },
  "language_info": {
   "codemirror_mode": {
    "name": "ipython",
    "version": 3
   },
   "file_extension": ".py",
   "mimetype": "text/x-python",
   "name": "python",
   "nbconvert_exporter": "python",
   "pygments_lexer": "ipython3",
   "version": "3.8.12"
  }
 },
 "nbformat": 4,
 "nbformat_minor": 5
}
