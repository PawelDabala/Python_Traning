{
 "cells": [
  {
   "cell_type": "code",
   "execution_count": 1,
   "id": "dbb80625",
   "metadata": {},
   "outputs": [],
   "source": [
    "import pandas as pd\n",
    "import numpy as np\n",
    "import matplotlib.pyplot as plt\n",
    "import math as math\n",
    "import random as rd"
   ]
  },
  {
   "cell_type": "code",
   "execution_count": 2,
   "id": "de167201",
   "metadata": {},
   "outputs": [],
   "source": [
    "frame = pd.read_csv('PublicTransitExpenses.csv', low_memory=False)"
   ]
  },
  {
   "cell_type": "code",
   "execution_count": 3,
   "id": "f8e4c748",
   "metadata": {},
   "outputs": [
    {
     "data": {
      "text/html": [
       "<div>\n",
       "<style scoped>\n",
       "    .dataframe tbody tr th:only-of-type {\n",
       "        vertical-align: middle;\n",
       "    }\n",
       "\n",
       "    .dataframe tbody tr th {\n",
       "        vertical-align: top;\n",
       "    }\n",
       "\n",
       "    .dataframe thead th {\n",
       "        text-align: right;\n",
       "    }\n",
       "</style>\n",
       "<table border=\"1\" class=\"dataframe\">\n",
       "  <thead>\n",
       "    <tr style=\"text-align: right;\">\n",
       "      <th></th>\n",
       "      <th>5 digit NTD ID</th>\n",
       "      <th>4 digit NTD ID</th>\n",
       "      <th>Agency</th>\n",
       "      <th>Reporter Type</th>\n",
       "      <th>Subrecipient Type</th>\n",
       "      <th>Organization Type</th>\n",
       "      <th>2015 Total Mode Vehicles (VOMS)</th>\n",
       "      <th>Mode</th>\n",
       "      <th>Type of Service</th>\n",
       "      <th>Primary UZA Code</th>\n",
       "      <th>...</th>\n",
       "      <th>Casualty and Liability Costs</th>\n",
       "      <th>Taxes</th>\n",
       "      <th>PT Funds In Report</th>\n",
       "      <th>PT Funds Reported Separately</th>\n",
       "      <th>Miscellaneous Expenses</th>\n",
       "      <th>Reduced Reporter Total OE</th>\n",
       "      <th>Total Operating Expenses</th>\n",
       "      <th>Total Operating Expenses (No Funds Reported Separately)</th>\n",
       "      <th>ADA Related Expenses</th>\n",
       "      <th>Location 1</th>\n",
       "    </tr>\n",
       "  </thead>\n",
       "  <tbody>\n",
       "    <tr>\n",
       "      <th>0</th>\n",
       "      <td>30098</td>\n",
       "      <td>3098</td>\n",
       "      <td>Washington County Commissioners</td>\n",
       "      <td>Reduced Reporter</td>\n",
       "      <td>NaN</td>\n",
       "      <td>NaN</td>\n",
       "      <td>NaN</td>\n",
       "      <td>DR</td>\n",
       "      <td>PT</td>\n",
       "      <td>NaN</td>\n",
       "      <td>...</td>\n",
       "      <td>$0.00</td>\n",
       "      <td>$0.00</td>\n",
       "      <td>$0.00</td>\n",
       "      <td>$0.00</td>\n",
       "      <td>$0.00</td>\n",
       "      <td>$122524.00</td>\n",
       "      <td>$122524.00</td>\n",
       "      <td>$122524.00</td>\n",
       "      <td>$0.00</td>\n",
       "      <td>NaN</td>\n",
       "    </tr>\n",
       "    <tr>\n",
       "      <th>1</th>\n",
       "      <td>30098</td>\n",
       "      <td>3098</td>\n",
       "      <td>Washington County Commissioners</td>\n",
       "      <td>Reduced Reporter</td>\n",
       "      <td>NaN</td>\n",
       "      <td>NaN</td>\n",
       "      <td>NaN</td>\n",
       "      <td>MB</td>\n",
       "      <td>PT</td>\n",
       "      <td>NaN</td>\n",
       "      <td>...</td>\n",
       "      <td>$0.00</td>\n",
       "      <td>$0.00</td>\n",
       "      <td>$0.00</td>\n",
       "      <td>$0.00</td>\n",
       "      <td>$0.00</td>\n",
       "      <td>$272715.00</td>\n",
       "      <td>$272715.00</td>\n",
       "      <td>$272715.00</td>\n",
       "      <td>$0.00</td>\n",
       "      <td>NaN</td>\n",
       "    </tr>\n",
       "    <tr>\n",
       "      <th>2</th>\n",
       "      <td>60107</td>\n",
       "      <td>6107</td>\n",
       "      <td>Texoma Area Paratransit System, Inc</td>\n",
       "      <td>Full Reporter</td>\n",
       "      <td>NaN</td>\n",
       "      <td>NaN</td>\n",
       "      <td>NaN</td>\n",
       "      <td>CB</td>\n",
       "      <td>PT</td>\n",
       "      <td>NaN</td>\n",
       "      <td>...</td>\n",
       "      <td>NaN</td>\n",
       "      <td>NaN</td>\n",
       "      <td>$3398.00</td>\n",
       "      <td>NaN</td>\n",
       "      <td>NaN</td>\n",
       "      <td>NaN</td>\n",
       "      <td>$7295.00</td>\n",
       "      <td>$7295.00</td>\n",
       "      <td>NaN</td>\n",
       "      <td>NaN</td>\n",
       "    </tr>\n",
       "    <tr>\n",
       "      <th>3</th>\n",
       "      <td>9</td>\n",
       "      <td>0T09</td>\n",
       "      <td>Kalispel Tribe of Indians</td>\n",
       "      <td>Reduced Reporter</td>\n",
       "      <td>NaN</td>\n",
       "      <td>Tribe</td>\n",
       "      <td>4.0</td>\n",
       "      <td>DR</td>\n",
       "      <td>DO</td>\n",
       "      <td>0.0</td>\n",
       "      <td>...</td>\n",
       "      <td>NaN</td>\n",
       "      <td>NaN</td>\n",
       "      <td>NaN</td>\n",
       "      <td>NaN</td>\n",
       "      <td>NaN</td>\n",
       "      <td>$37416.00</td>\n",
       "      <td>$37416.00</td>\n",
       "      <td>$37416.00</td>\n",
       "      <td>NaN</td>\n",
       "      <td>Usk, WA\\n</td>\n",
       "    </tr>\n",
       "    <tr>\n",
       "      <th>4</th>\n",
       "      <td>9</td>\n",
       "      <td>0T09</td>\n",
       "      <td>Kalispel Tribe of Indians</td>\n",
       "      <td>Reduced Reporter</td>\n",
       "      <td>NaN</td>\n",
       "      <td>Tribe</td>\n",
       "      <td>4.0</td>\n",
       "      <td>MB</td>\n",
       "      <td>DO</td>\n",
       "      <td>0.0</td>\n",
       "      <td>...</td>\n",
       "      <td>NaN</td>\n",
       "      <td>NaN</td>\n",
       "      <td>NaN</td>\n",
       "      <td>NaN</td>\n",
       "      <td>NaN</td>\n",
       "      <td>$345789.00</td>\n",
       "      <td>$345789.00</td>\n",
       "      <td>$345789.00</td>\n",
       "      <td>NaN</td>\n",
       "      <td>Usk, WA\\n</td>\n",
       "    </tr>\n",
       "  </tbody>\n",
       "</table>\n",
       "<p>5 rows × 39 columns</p>\n",
       "</div>"
      ],
      "text/plain": [
       "  5 digit NTD ID 4 digit NTD ID                               Agency  \\\n",
       "0          30098           3098      Washington County Commissioners   \n",
       "1          30098           3098      Washington County Commissioners   \n",
       "2          60107           6107  Texoma Area Paratransit System, Inc   \n",
       "3              9           0T09            Kalispel Tribe of Indians   \n",
       "4              9           0T09            Kalispel Tribe of Indians   \n",
       "\n",
       "      Reporter Type Subrecipient Type Organization Type  \\\n",
       "0  Reduced Reporter               NaN               NaN   \n",
       "1  Reduced Reporter               NaN               NaN   \n",
       "2     Full Reporter               NaN               NaN   \n",
       "3  Reduced Reporter               NaN             Tribe   \n",
       "4  Reduced Reporter               NaN             Tribe   \n",
       "\n",
       "   2015 Total Mode Vehicles (VOMS) Mode Type of Service  Primary UZA Code  \\\n",
       "0                              NaN   DR              PT               NaN   \n",
       "1                              NaN   MB              PT               NaN   \n",
       "2                              NaN   CB              PT               NaN   \n",
       "3                              4.0   DR              DO               0.0   \n",
       "4                              4.0   MB              DO               0.0   \n",
       "\n",
       "   ... Casualty and Liability Costs  Taxes  PT Funds In Report  \\\n",
       "0  ...                        $0.00  $0.00               $0.00   \n",
       "1  ...                        $0.00  $0.00               $0.00   \n",
       "2  ...                          NaN    NaN            $3398.00   \n",
       "3  ...                          NaN    NaN                 NaN   \n",
       "4  ...                          NaN    NaN                 NaN   \n",
       "\n",
       "   PT Funds Reported Separately  Miscellaneous Expenses  \\\n",
       "0                         $0.00                   $0.00   \n",
       "1                         $0.00                   $0.00   \n",
       "2                           NaN                     NaN   \n",
       "3                           NaN                     NaN   \n",
       "4                           NaN                     NaN   \n",
       "\n",
       "   Reduced Reporter Total OE  Total Operating Expenses  \\\n",
       "0                 $122524.00                $122524.00   \n",
       "1                 $272715.00                $272715.00   \n",
       "2                        NaN                  $7295.00   \n",
       "3                  $37416.00                 $37416.00   \n",
       "4                 $345789.00                $345789.00   \n",
       "\n",
       "   Total Operating Expenses (No Funds Reported Separately)  \\\n",
       "0                                         $122524.00         \n",
       "1                                         $272715.00         \n",
       "2                                           $7295.00         \n",
       "3                                          $37416.00         \n",
       "4                                         $345789.00         \n",
       "\n",
       "  ADA Related Expenses Location 1  \n",
       "0                $0.00        NaN  \n",
       "1                $0.00        NaN  \n",
       "2                  NaN        NaN  \n",
       "3                  NaN  Usk, WA\\n  \n",
       "4                  NaN  Usk, WA\\n  \n",
       "\n",
       "[5 rows x 39 columns]"
      ]
     },
     "execution_count": 3,
     "metadata": {},
     "output_type": "execute_result"
    }
   ],
   "source": [
    "frame.head()"
   ]
  },
  {
   "cell_type": "code",
   "execution_count": 4,
   "id": "77615c75",
   "metadata": {},
   "outputs": [
    {
     "name": "stdout",
     "output_type": "stream",
     "text": [
      "<class 'pandas.core.frame.DataFrame'>\n",
      "RangeIndex: 17844 entries, 0 to 17843\n",
      "Data columns (total 39 columns):\n",
      " #   Column                                                   Non-Null Count  Dtype  \n",
      "---  ------                                                   --------------  -----  \n",
      " 0   5 digit NTD ID                                           17844 non-null  object \n",
      " 1   4 digit NTD ID                                           17719 non-null  object \n",
      " 2   Agency                                                   17844 non-null  object \n",
      " 3   Reporter Type                                            17844 non-null  object \n",
      " 4   Subrecipient Type                                        3072 non-null   object \n",
      " 5   Organization Type                                        17759 non-null  object \n",
      " 6   2015 Total Mode Vehicles (VOMS)                          17522 non-null  float64\n",
      " 7   Mode                                                     17844 non-null  object \n",
      " 8   Type of Service                                          17840 non-null  object \n",
      " 9   Primary UZA Code                                         17712 non-null  float64\n",
      " 10  Primary UZA Name                                         17705 non-null  object \n",
      " 11  Primary  UZA Area SQ Miles                               14370 non-null  float64\n",
      " 12  Primary  UZA Population                                  14370 non-null  float64\n",
      " 13  Service Area SQ Miles                                    14414 non-null  float64\n",
      " 14  Service Area Population                                  14418 non-null  float64\n",
      " 15  Year                                                     17844 non-null  int64  \n",
      " 16  Vehicles Operated at Maximum Service (VOMS)              17836 non-null  float64\n",
      " 17  Vehicles Available for Maximum Service (VAMS)            13887 non-null  float64\n",
      " 18  Rail (Y/N)                                               17318 non-null  object \n",
      " 19  Fixed Route (Y/N)                                        17318 non-null  object \n",
      " 20  Expense Function                                         17844 non-null  object \n",
      " 21  Operators' Salaries and Wages                            4920 non-null   object \n",
      " 22  Other Salaries and Wages                                 10348 non-null  object \n",
      " 23  Fringe Benefits                                          10425 non-null  object \n",
      " 24  Service Costs                                            10262 non-null  object \n",
      " 25  Fuel and Lubricants                                      6515 non-null   object \n",
      " 26  Tires and Tubes                                          5615 non-null   object \n",
      " 27  Other Materials and Supplies                             10230 non-null  object \n",
      " 28  Utilities                                                5999 non-null   object \n",
      " 29  Casualty and Liability Costs                             6953 non-null   object \n",
      " 30  Taxes                                                    4680 non-null   object \n",
      " 31  PT Funds In Report                                       7592 non-null   object \n",
      " 32  PT Funds Reported Separately                             3555 non-null   object \n",
      " 33  Miscellaneous Expenses                                   7837 non-null   object \n",
      " 34  Reduced Reporter Total OE                                7054 non-null   object \n",
      " 35  Total Operating Expenses                                 17844 non-null  object \n",
      " 36  Total Operating Expenses (No Funds Reported Separately)  17844 non-null  object \n",
      " 37  ADA Related Expenses                                     3187 non-null   object \n",
      " 38  Location 1                                               17712 non-null  object \n",
      "dtypes: float64(8), int64(1), object(30)\n",
      "memory usage: 30.5 MB\n"
     ]
    }
   ],
   "source": [
    "frame.info(memory_usage='deep')"
   ]
  },
  {
   "cell_type": "code",
   "execution_count": 2,
   "id": "7005b651",
   "metadata": {},
   "outputs": [
    {
     "data": {
      "text/html": [
       "<div>\n",
       "<style scoped>\n",
       "    .dataframe tbody tr th:only-of-type {\n",
       "        vertical-align: middle;\n",
       "    }\n",
       "\n",
       "    .dataframe tbody tr th {\n",
       "        vertical-align: top;\n",
       "    }\n",
       "\n",
       "    .dataframe thead th {\n",
       "        text-align: right;\n",
       "    }\n",
       "</style>\n",
       "<table border=\"1\" class=\"dataframe\">\n",
       "  <thead>\n",
       "    <tr style=\"text-align: right;\">\n",
       "      <th></th>\n",
       "      <th>status_id</th>\n",
       "      <th>status_message</th>\n",
       "      <th>link_name</th>\n",
       "      <th>status_type</th>\n",
       "      <th>status_link</th>\n",
       "      <th>status_published</th>\n",
       "      <th>num_reactions</th>\n",
       "      <th>num_comments</th>\n",
       "      <th>num_shares</th>\n",
       "      <th>num_likes</th>\n",
       "      <th>num_loves</th>\n",
       "      <th>num_wows</th>\n",
       "      <th>num_hahas</th>\n",
       "      <th>num_sads</th>\n",
       "      <th>num_angrys</th>\n",
       "    </tr>\n",
       "  </thead>\n",
       "  <tbody>\n",
       "    <tr>\n",
       "      <th>0</th>\n",
       "      <td>17774451468_10154154735571469</td>\n",
       "      <td>It's time for Mr Bean and Teddy to get ready f...</td>\n",
       "      <td>Mr Bean - Preparing To Go Camping</td>\n",
       "      <td>video</td>\n",
       "      <td>https://youtu.be/fgURU75gTMQ</td>\n",
       "      <td>2016-06-23 11:35:48</td>\n",
       "      <td>16570.0</td>\n",
       "      <td>223.0</td>\n",
       "      <td>338.0</td>\n",
       "      <td>16079</td>\n",
       "      <td>166</td>\n",
       "      <td>6</td>\n",
       "      <td>320</td>\n",
       "      <td>0</td>\n",
       "      <td>0</td>\n",
       "    </tr>\n",
       "    <tr>\n",
       "      <th>1</th>\n",
       "      <td>17774451468_10154146584106469</td>\n",
       "      <td>NaN</td>\n",
       "      <td>Timeline Photos</td>\n",
       "      <td>photo</td>\n",
       "      <td>https://www.facebook.com/MrBean/photos/a.10150...</td>\n",
       "      <td>2016-06-21 10:00:01</td>\n",
       "      <td>119886.0</td>\n",
       "      <td>2171.0</td>\n",
       "      <td>1657.0</td>\n",
       "      <td>114008</td>\n",
       "      <td>946</td>\n",
       "      <td>104</td>\n",
       "      <td>4795</td>\n",
       "      <td>16</td>\n",
       "      <td>17</td>\n",
       "    </tr>\n",
       "    <tr>\n",
       "      <th>2</th>\n",
       "      <td>17774451468_10154135502911469</td>\n",
       "      <td>NaN</td>\n",
       "      <td>Timeline Photos</td>\n",
       "      <td>photo</td>\n",
       "      <td>https://www.facebook.com/MrBean/photos/a.10150...</td>\n",
       "      <td>2016-06-19 10:00:01</td>\n",
       "      <td>NaN</td>\n",
       "      <td>2395.0</td>\n",
       "      <td>10050.0</td>\n",
       "      <td>218579</td>\n",
       "      <td>2988</td>\n",
       "      <td>188</td>\n",
       "      <td>13992</td>\n",
       "      <td>52</td>\n",
       "      <td>53</td>\n",
       "    </tr>\n",
       "    <tr>\n",
       "      <th>3</th>\n",
       "      <td>17774451468_10154138120151469</td>\n",
       "      <td>Mr Bean is ready to do some shopping but bewar...</td>\n",
       "      <td>www.youtube.com</td>\n",
       "      <td>video</td>\n",
       "      <td>https://www.youtube.com/watch?v=58Z8J0PbLS8</td>\n",
       "      <td>2016-06-18 11:00:02</td>\n",
       "      <td>20913.0</td>\n",
       "      <td>214.0</td>\n",
       "      <td>257.0</td>\n",
       "      <td>20338</td>\n",
       "      <td>211</td>\n",
       "      <td>20</td>\n",
       "      <td>336</td>\n",
       "      <td>0</td>\n",
       "      <td>8</td>\n",
       "    </tr>\n",
       "    <tr>\n",
       "      <th>4</th>\n",
       "      <td>17774451468_10154135502476469</td>\n",
       "      <td>NaN</td>\n",
       "      <td>Timeline Photos</td>\n",
       "      <td>photo</td>\n",
       "      <td>https://www.facebook.com/MrBean/photos/a.10150...</td>\n",
       "      <td>2016-06-17 09:00:01</td>\n",
       "      <td>223602.0</td>\n",
       "      <td>880.0</td>\n",
       "      <td>2228.0</td>\n",
       "      <td>215591</td>\n",
       "      <td>2872</td>\n",
       "      <td>259</td>\n",
       "      <td>4814</td>\n",
       "      <td>27</td>\n",
       "      <td>39</td>\n",
       "    </tr>\n",
       "  </tbody>\n",
       "</table>\n",
       "</div>"
      ],
      "text/plain": [
       "                       status_id  \\\n",
       "0  17774451468_10154154735571469   \n",
       "1  17774451468_10154146584106469   \n",
       "2  17774451468_10154135502911469   \n",
       "3  17774451468_10154138120151469   \n",
       "4  17774451468_10154135502476469   \n",
       "\n",
       "                                      status_message  \\\n",
       "0  It's time for Mr Bean and Teddy to get ready f...   \n",
       "1                                                NaN   \n",
       "2                                                NaN   \n",
       "3  Mr Bean is ready to do some shopping but bewar...   \n",
       "4                                                NaN   \n",
       "\n",
       "                           link_name status_type  \\\n",
       "0  Mr Bean - Preparing To Go Camping       video   \n",
       "1                    Timeline Photos       photo   \n",
       "2                    Timeline Photos       photo   \n",
       "3                    www.youtube.com       video   \n",
       "4                    Timeline Photos       photo   \n",
       "\n",
       "                                         status_link     status_published  \\\n",
       "0                       https://youtu.be/fgURU75gTMQ  2016-06-23 11:35:48   \n",
       "1  https://www.facebook.com/MrBean/photos/a.10150...  2016-06-21 10:00:01   \n",
       "2  https://www.facebook.com/MrBean/photos/a.10150...  2016-06-19 10:00:01   \n",
       "3        https://www.youtube.com/watch?v=58Z8J0PbLS8  2016-06-18 11:00:02   \n",
       "4  https://www.facebook.com/MrBean/photos/a.10150...  2016-06-17 09:00:01   \n",
       "\n",
       "   num_reactions  num_comments  num_shares  num_likes  num_loves  num_wows  \\\n",
       "0        16570.0         223.0       338.0      16079        166         6   \n",
       "1       119886.0        2171.0      1657.0     114008        946       104   \n",
       "2            NaN        2395.0     10050.0     218579       2988       188   \n",
       "3        20913.0         214.0       257.0      20338        211        20   \n",
       "4       223602.0         880.0      2228.0     215591       2872       259   \n",
       "\n",
       "   num_hahas  num_sads  num_angrys  \n",
       "0        320         0           0  \n",
       "1       4795        16          17  \n",
       "2      13992        52          53  \n",
       "3        336         0           8  \n",
       "4       4814        27          39  "
      ]
     },
     "execution_count": 2,
     "metadata": {},
     "output_type": "execute_result"
    }
   ],
   "source": [
    "fb = pd.read_csv('mrbean_facebook_statuses_with_nulls.csv')\n",
    "fb.head()"
   ]
  },
  {
   "cell_type": "code",
   "execution_count": 4,
   "id": "a6c5290b",
   "metadata": {},
   "outputs": [
    {
     "name": "stdout",
     "output_type": "stream",
     "text": [
      "<class 'pandas.core.frame.DataFrame'>\n",
      "RangeIndex: 56 entries, 0 to 55\n",
      "Data columns (total 15 columns):\n",
      " #   Column            Non-Null Count  Dtype  \n",
      "---  ------            --------------  -----  \n",
      " 0   status_id         56 non-null     object \n",
      " 1   status_message    40 non-null     object \n",
      " 2   link_name         56 non-null     object \n",
      " 3   status_type       56 non-null     object \n",
      " 4   status_link       56 non-null     object \n",
      " 5   status_published  56 non-null     object \n",
      " 6   num_reactions     54 non-null     float64\n",
      " 7   num_comments      55 non-null     float64\n",
      " 8   num_shares        56 non-null     float64\n",
      " 9   num_likes         56 non-null     int64  \n",
      " 10  num_loves         56 non-null     int64  \n",
      " 11  num_wows          56 non-null     int64  \n",
      " 12  num_hahas         56 non-null     int64  \n",
      " 13  num_sads          56 non-null     int64  \n",
      " 14  num_angrys        56 non-null     int64  \n",
      "dtypes: float64(3), int64(6), object(6)\n",
      "memory usage: 34.4 KB\n"
     ]
    }
   ],
   "source": [
    "fb.info(memory_usage='deep')"
   ]
  },
  {
   "cell_type": "code",
   "execution_count": 6,
   "id": "c2098821",
   "metadata": {},
   "outputs": [],
   "source": [
    "fb = pd.read_csv('mrbean_facebook_statuses_with_nulls.csv', usecols=[\"status_message\", \"status_type\", \"link_name\",\n",
    "\"num_reactions\", \"num_shares\", \"num_likes\"])"
   ]
  },
  {
   "cell_type": "code",
   "execution_count": 7,
   "id": "391894b8",
   "metadata": {},
   "outputs": [
    {
     "data": {
      "text/html": [
       "<div>\n",
       "<style scoped>\n",
       "    .dataframe tbody tr th:only-of-type {\n",
       "        vertical-align: middle;\n",
       "    }\n",
       "\n",
       "    .dataframe tbody tr th {\n",
       "        vertical-align: top;\n",
       "    }\n",
       "\n",
       "    .dataframe thead th {\n",
       "        text-align: right;\n",
       "    }\n",
       "</style>\n",
       "<table border=\"1\" class=\"dataframe\">\n",
       "  <thead>\n",
       "    <tr style=\"text-align: right;\">\n",
       "      <th></th>\n",
       "      <th>status_message</th>\n",
       "      <th>link_name</th>\n",
       "      <th>status_type</th>\n",
       "      <th>num_reactions</th>\n",
       "      <th>num_shares</th>\n",
       "      <th>num_likes</th>\n",
       "    </tr>\n",
       "  </thead>\n",
       "  <tbody>\n",
       "    <tr>\n",
       "      <th>0</th>\n",
       "      <td>It's time for Mr Bean and Teddy to get ready f...</td>\n",
       "      <td>Mr Bean - Preparing To Go Camping</td>\n",
       "      <td>video</td>\n",
       "      <td>16570.0</td>\n",
       "      <td>338.0</td>\n",
       "      <td>16079</td>\n",
       "    </tr>\n",
       "    <tr>\n",
       "      <th>1</th>\n",
       "      <td>NaN</td>\n",
       "      <td>Timeline Photos</td>\n",
       "      <td>photo</td>\n",
       "      <td>119886.0</td>\n",
       "      <td>1657.0</td>\n",
       "      <td>114008</td>\n",
       "    </tr>\n",
       "    <tr>\n",
       "      <th>2</th>\n",
       "      <td>NaN</td>\n",
       "      <td>Timeline Photos</td>\n",
       "      <td>photo</td>\n",
       "      <td>NaN</td>\n",
       "      <td>10050.0</td>\n",
       "      <td>218579</td>\n",
       "    </tr>\n",
       "    <tr>\n",
       "      <th>3</th>\n",
       "      <td>Mr Bean is ready to do some shopping but bewar...</td>\n",
       "      <td>www.youtube.com</td>\n",
       "      <td>video</td>\n",
       "      <td>20913.0</td>\n",
       "      <td>257.0</td>\n",
       "      <td>20338</td>\n",
       "    </tr>\n",
       "    <tr>\n",
       "      <th>4</th>\n",
       "      <td>NaN</td>\n",
       "      <td>Timeline Photos</td>\n",
       "      <td>photo</td>\n",
       "      <td>223602.0</td>\n",
       "      <td>2228.0</td>\n",
       "      <td>215591</td>\n",
       "    </tr>\n",
       "  </tbody>\n",
       "</table>\n",
       "</div>"
      ],
      "text/plain": [
       "                                      status_message  \\\n",
       "0  It's time for Mr Bean and Teddy to get ready f...   \n",
       "1                                                NaN   \n",
       "2                                                NaN   \n",
       "3  Mr Bean is ready to do some shopping but bewar...   \n",
       "4                                                NaN   \n",
       "\n",
       "                           link_name status_type  num_reactions  num_shares  \\\n",
       "0  Mr Bean - Preparing To Go Camping       video        16570.0       338.0   \n",
       "1                    Timeline Photos       photo       119886.0      1657.0   \n",
       "2                    Timeline Photos       photo            NaN     10050.0   \n",
       "3                    www.youtube.com       video        20913.0       257.0   \n",
       "4                    Timeline Photos       photo       223602.0      2228.0   \n",
       "\n",
       "   num_likes  \n",
       "0      16079  \n",
       "1     114008  \n",
       "2     218579  \n",
       "3      20338  \n",
       "4     215591  "
      ]
     },
     "execution_count": 7,
     "metadata": {},
     "output_type": "execute_result"
    }
   ],
   "source": [
    "fb.head()\n"
   ]
  },
  {
   "cell_type": "code",
   "execution_count": 8,
   "id": "20f2ab70",
   "metadata": {},
   "outputs": [
    {
     "name": "stdout",
     "output_type": "stream",
     "text": [
      "<class 'pandas.core.frame.DataFrame'>\n",
      "RangeIndex: 56 entries, 0 to 55\n",
      "Data columns (total 6 columns):\n",
      " #   Column          Non-Null Count  Dtype  \n",
      "---  ------          --------------  -----  \n",
      " 0   status_message  40 non-null     object \n",
      " 1   link_name       56 non-null     object \n",
      " 2   status_type     56 non-null     object \n",
      " 3   num_reactions   54 non-null     float64\n",
      " 4   num_shares      56 non-null     float64\n",
      " 5   num_likes       56 non-null     int64  \n",
      "dtypes: float64(2), int64(1), object(3)\n",
      "memory usage: 16.1 KB\n"
     ]
    }
   ],
   "source": [
    "fb.info(memory_usage='deep')"
   ]
  },
  {
   "cell_type": "code",
   "execution_count": 9,
   "id": "13296afd",
   "metadata": {},
   "outputs": [
    {
     "data": {
      "text/plain": [
       "Index             128\n",
       "status_message    448\n",
       "link_name         448\n",
       "status_type       448\n",
       "num_reactions     448\n",
       "num_shares        448\n",
       "num_likes         448\n",
       "dtype: int64"
      ]
     },
     "execution_count": 9,
     "metadata": {},
     "output_type": "execute_result"
    }
   ],
   "source": [
    "fb.memory_usage()"
   ]
  },
  {
   "cell_type": "code",
   "execution_count": 11,
   "id": "dfc619be",
   "metadata": {},
   "outputs": [
    {
     "data": {
      "text/plain": [
       "2816"
      ]
     },
     "execution_count": 11,
     "metadata": {},
     "output_type": "execute_result"
    }
   ],
   "source": [
    "128+(448*6)"
   ]
  },
  {
   "cell_type": "code",
   "execution_count": 15,
   "id": "7d5cd243",
   "metadata": {},
   "outputs": [
    {
     "data": {
      "text/plain": [
       "56"
      ]
     },
     "execution_count": 15,
     "metadata": {},
     "output_type": "execute_result"
    }
   ],
   "source": [
    "len(fb)"
   ]
  },
  {
   "cell_type": "code",
   "execution_count": 16,
   "id": "3e624c9c",
   "metadata": {},
   "outputs": [
    {
     "data": {
      "text/plain": [
       "video    32\n",
       "photo    22\n",
       "link      2\n",
       "Name: status_type, dtype: int64"
      ]
     },
     "execution_count": 16,
     "metadata": {},
     "output_type": "execute_result"
    }
   ],
   "source": [
    "fb.status_type.value_counts()"
   ]
  },
  {
   "cell_type": "code",
   "execution_count": 17,
   "id": "7764565f",
   "metadata": {},
   "outputs": [
    {
     "data": {
      "text/plain": [
       "array(['video', 'photo', 'link'], dtype=object)"
      ]
     },
     "execution_count": 17,
     "metadata": {},
     "output_type": "execute_result"
    }
   ],
   "source": [
    "fb.status_type.unique()"
   ]
  },
  {
   "cell_type": "code",
   "execution_count": 19,
   "id": "b6367574",
   "metadata": {},
   "outputs": [
    {
     "data": {
      "text/plain": [
       "False"
      ]
     },
     "execution_count": 19,
     "metadata": {},
     "output_type": "execute_result"
    }
   ],
   "source": [
    "fb.status_type.is_unique"
   ]
  },
  {
   "cell_type": "code",
   "execution_count": 20,
   "id": "9efc8c56",
   "metadata": {},
   "outputs": [
    {
     "data": {
      "text/plain": [
       "3"
      ]
     },
     "execution_count": 20,
     "metadata": {},
     "output_type": "execute_result"
    }
   ],
   "source": [
    "fb.status_type.nunique()"
   ]
  },
  {
   "cell_type": "code",
   "execution_count": 22,
   "id": "3905b340",
   "metadata": {},
   "outputs": [],
   "source": [
    "fb.status_type =  fb.status_type.astype('category')"
   ]
  },
  {
   "cell_type": "code",
   "execution_count": 23,
   "id": "bcc144c3",
   "metadata": {},
   "outputs": [
    {
     "name": "stdout",
     "output_type": "stream",
     "text": [
      "<class 'pandas.core.frame.DataFrame'>\n",
      "RangeIndex: 56 entries, 0 to 55\n",
      "Data columns (total 6 columns):\n",
      " #   Column          Non-Null Count  Dtype   \n",
      "---  ------          --------------  -----   \n",
      " 0   status_message  40 non-null     object  \n",
      " 1   link_name       56 non-null     object  \n",
      " 2   status_type     56 non-null     category\n",
      " 3   num_reactions   54 non-null     float64 \n",
      " 4   num_shares      56 non-null     float64 \n",
      " 5   num_likes       56 non-null     int64   \n",
      "dtypes: category(1), float64(2), int64(1), object(2)\n",
      "memory usage: 13.0 KB\n"
     ]
    }
   ],
   "source": [
    "fb.info(memory_usage='deep')"
   ]
  },
  {
   "cell_type": "code",
   "execution_count": 24,
   "id": "9cf09d4a",
   "metadata": {},
   "outputs": [
    {
     "data": {
      "text/plain": [
       "32"
      ]
     },
     "execution_count": 24,
     "metadata": {},
     "output_type": "execute_result"
    }
   ],
   "source": [
    "fb.link_name.nunique()"
   ]
  },
  {
   "cell_type": "code",
   "execution_count": 25,
   "id": "a16d881b",
   "metadata": {},
   "outputs": [
    {
     "data": {
      "text/plain": [
       "Timeline Photos                                                               22\n",
       "www.youtube.com                                                                4\n",
       "Mr. Bean - Sneezing and Snoozing In Church                                     1\n",
       "Mr. Bean - Mystery creature                                                    1\n",
       "Mr. Bean - Saxophone Player                                                    1\n",
       "Mr. Bean - Elderly people on stairs                                            1\n",
       "Rowan Atkinson: I will never wave goodbye to Mr Bean                           1\n",
       "Mr. Bean's Happy Moments                                                       1\n",
       "Mr. Bean - At the Disco                                                        1\n",
       "Mr Bean - Preparing To Go Camping                                              1\n",
       "Mr. Bean - Shopping for Towels                                                 1\n",
       "Mr. Bean - Counting Sheep.                                                     1\n",
       "Mr. Bean - High Dive                                                           1\n",
       "Mr. Bean (NEW series) - The Lift                                               1\n",
       "Mr Bean - Country fete games -- Volksfest Spiele                               1\n",
       "Even in LEGO, Mr. Bean travels in comfort | The Brothers Brick | LEGO Blog     1\n",
       "Mr. Bean - Making A Sandwich                                                   1\n",
       "Mr. Bean (NEW series) - Ice Cream                                              1\n",
       "Mr Bean - Crazy Golf                                                           1\n",
       "Mr. Bean - Fixing Your Own Teeth                                               1\n",
       "Mr Bean - Restaurant Etiquette                                                 1\n",
       "Mr Bean (NEW series) - Litterbugs Clip                                         1\n",
       "Mr. Bean - Alarm Clock                                                         1\n",
       "Mr. Bean (NEW Series) - Dancing Bean                                           1\n",
       "Mr. Bean - Embarrassing Moments Compilation                                    1\n",
       "Mr. Bean - How to stop a baby from crying                                      1\n",
       "Mr Bean - Dinner for Two                                                       1\n",
       "Mr Bean - Chemistry experiment                                                 1\n",
       "Mr Bean - Sun Block                                                            1\n",
       "Mr Bean - Ray Of Sunshine                                                      1\n",
       "Mr Bean - Broken Tooth                                                         1\n",
       "Mr Bean - Prison Break                                                         1\n",
       "Name: link_name, dtype: int64"
      ]
     },
     "execution_count": 25,
     "metadata": {},
     "output_type": "execute_result"
    }
   ],
   "source": [
    "fb.link_name.value_counts()"
   ]
  },
  {
   "cell_type": "code",
   "execution_count": 26,
   "id": "b3cb063d",
   "metadata": {},
   "outputs": [],
   "source": [
    "fb.link_name = fb.link_name.astype('category')"
   ]
  },
  {
   "cell_type": "code",
   "execution_count": 27,
   "id": "81355674",
   "metadata": {},
   "outputs": [
    {
     "name": "stdout",
     "output_type": "stream",
     "text": [
      "<class 'pandas.core.frame.DataFrame'>\n",
      "RangeIndex: 56 entries, 0 to 55\n",
      "Data columns (total 6 columns):\n",
      " #   Column          Non-Null Count  Dtype   \n",
      "---  ------          --------------  -----   \n",
      " 0   status_message  40 non-null     object  \n",
      " 1   link_name       56 non-null     category\n",
      " 2   status_type     56 non-null     category\n",
      " 3   num_reactions   54 non-null     float64 \n",
      " 4   num_shares      56 non-null     float64 \n",
      " 5   num_likes       56 non-null     int64   \n",
      "dtypes: category(2), float64(2), int64(1), object(1)\n",
      "memory usage: 12.4 KB\n"
     ]
    }
   ],
   "source": [
    "fb.info(memory_usage='deep')"
   ]
  },
  {
   "cell_type": "code",
   "execution_count": 28,
   "id": "8393703b",
   "metadata": {},
   "outputs": [],
   "source": [
    "fb.num_reactions.fillna(0, inplace=True)"
   ]
  },
  {
   "cell_type": "code",
   "execution_count": 29,
   "id": "dc851a88",
   "metadata": {},
   "outputs": [],
   "source": [
    "fb.num_shares.fillna(0, inplace=True)"
   ]
  },
  {
   "cell_type": "code",
   "execution_count": 30,
   "id": "856bd014",
   "metadata": {},
   "outputs": [
    {
     "name": "stdout",
     "output_type": "stream",
     "text": [
      "<class 'pandas.core.frame.DataFrame'>\n",
      "RangeIndex: 56 entries, 0 to 55\n",
      "Data columns (total 6 columns):\n",
      " #   Column          Non-Null Count  Dtype   \n",
      "---  ------          --------------  -----   \n",
      " 0   status_message  40 non-null     object  \n",
      " 1   link_name       56 non-null     category\n",
      " 2   status_type     56 non-null     category\n",
      " 3   num_reactions   56 non-null     float64 \n",
      " 4   num_shares      56 non-null     float64 \n",
      " 5   num_likes       56 non-null     int64   \n",
      "dtypes: category(2), float64(2), int64(1), object(1)\n",
      "memory usage: 12.4 KB\n"
     ]
    }
   ],
   "source": [
    "fb.info(memory_usage='deep')"
   ]
  },
  {
   "cell_type": "code",
   "execution_count": 32,
   "id": "83dcf6b9",
   "metadata": {},
   "outputs": [],
   "source": [
    "fb.num_reactions = fb.num_reactions.astype('int')\n",
    "fb.num_shares=  fb.num_shares.astype('int')\n",
    "fb.num_likes = fb.num_likes.astype('int')"
   ]
  },
  {
   "cell_type": "code",
   "execution_count": 33,
   "id": "cfb7b4f1",
   "metadata": {},
   "outputs": [
    {
     "name": "stdout",
     "output_type": "stream",
     "text": [
      "<class 'pandas.core.frame.DataFrame'>\n",
      "RangeIndex: 56 entries, 0 to 55\n",
      "Data columns (total 6 columns):\n",
      " #   Column          Non-Null Count  Dtype   \n",
      "---  ------          --------------  -----   \n",
      " 0   status_message  40 non-null     object  \n",
      " 1   link_name       56 non-null     category\n",
      " 2   status_type     56 non-null     category\n",
      " 3   num_reactions   56 non-null     int32   \n",
      " 4   num_shares      56 non-null     int32   \n",
      " 5   num_likes       56 non-null     int32   \n",
      "dtypes: category(2), int32(3), object(1)\n",
      "memory usage: 11.8 KB\n"
     ]
    }
   ],
   "source": [
    "fb.info(memory_usage='deep')"
   ]
  },
  {
   "cell_type": "code",
   "execution_count": 34,
   "id": "f1504a45",
   "metadata": {},
   "outputs": [
    {
     "data": {
      "text/html": [
       "<div>\n",
       "<style scoped>\n",
       "    .dataframe tbody tr th:only-of-type {\n",
       "        vertical-align: middle;\n",
       "    }\n",
       "\n",
       "    .dataframe tbody tr th {\n",
       "        vertical-align: top;\n",
       "    }\n",
       "\n",
       "    .dataframe thead th {\n",
       "        text-align: right;\n",
       "    }\n",
       "</style>\n",
       "<table border=\"1\" class=\"dataframe\">\n",
       "  <thead>\n",
       "    <tr style=\"text-align: right;\">\n",
       "      <th></th>\n",
       "      <th>id</th>\n",
       "      <th>title</th>\n",
       "      <th>description</th>\n",
       "      <th>availability</th>\n",
       "      <th>condition</th>\n",
       "      <th>price</th>\n",
       "      <th>link</th>\n",
       "      <th>image_link</th>\n",
       "      <th>brand</th>\n",
       "      <th>inventory</th>\n",
       "      <th>...</th>\n",
       "      <th>drivetrain</th>\n",
       "      <th>vin</th>\n",
       "      <th>exterior_color</th>\n",
       "      <th>state_of_vehicle</th>\n",
       "      <th>fuel_type</th>\n",
       "      <th>exterior_color.1</th>\n",
       "      <th>custom_label_1</th>\n",
       "      <th>custom_label_2</th>\n",
       "      <th>custom_label_3</th>\n",
       "      <th>custom_label_4</th>\n",
       "    </tr>\n",
       "  </thead>\n",
       "  <tbody>\n",
       "    <tr>\n",
       "      <th>0</th>\n",
       "      <td>62462</td>\n",
       "      <td>KAMIQ AMBITION  Manualna  1.0 TSI 110 KM</td>\n",
       "      <td>Oferta leasingu online</td>\n",
       "      <td>in stock</td>\n",
       "      <td>NEW</td>\n",
       "      <td>90900 PLN</td>\n",
       "      <td>https://sklep.skoda-auto.pl/skoda-kamiq-1-0-ts...</td>\n",
       "      <td>https://sklep.skoda-auto.pl/media/catalog/prod...</td>\n",
       "      <td>ŠKODA</td>\n",
       "      <td>1</td>\n",
       "      <td>...</td>\n",
       "      <td>FWD</td>\n",
       "      <td>TMBGR6NW4M3140836</td>\n",
       "      <td>Biel Moon Metalizowany</td>\n",
       "      <td>NEW</td>\n",
       "      <td>GASOLINE</td>\n",
       "      <td>Biel Moon Metalizowany</td>\n",
       "      <td>839.31 PLN</td>\n",
       "      <td>1.0 TSI 110 KM</td>\n",
       "      <td>{addr1: 'Toruńska 169', city: 'Włocławek', reg...</td>\n",
       "      <td>### Wyposażenie dodatkowe ###     --- Ochrona ...</td>\n",
       "    </tr>\n",
       "    <tr>\n",
       "      <th>1</th>\n",
       "      <td>63784</td>\n",
       "      <td>KAMIQ STYLE  Automatyczna  1.0 TSI 110 KM</td>\n",
       "      <td>Oferta leasingu online</td>\n",
       "      <td>in stock</td>\n",
       "      <td>NEW</td>\n",
       "      <td>105600 PLN</td>\n",
       "      <td>https://sklep.skoda-auto.pl/skoda-kamiq-1-0-ts...</td>\n",
       "      <td>https://sklep.skoda-auto.pl/media/catalog/prod...</td>\n",
       "      <td>ŠKODA</td>\n",
       "      <td>1</td>\n",
       "      <td>...</td>\n",
       "      <td>FWD</td>\n",
       "      <td>TMBGR6NW5N3016446</td>\n",
       "      <td>Biel Candy Niemetalizowany</td>\n",
       "      <td>NEW</td>\n",
       "      <td>GASOLINE</td>\n",
       "      <td>Biel Candy Niemetalizowany</td>\n",
       "      <td>975.04 PLN</td>\n",
       "      <td>1.0 TSI 110 KM</td>\n",
       "      <td>{addr1: 'Jadwigi Wajsówny  7-9', city: 'Poznań...</td>\n",
       "      <td>### Wyposażenie dodatkowe ###     --- Pakiety ...</td>\n",
       "    </tr>\n",
       "    <tr>\n",
       "      <th>2</th>\n",
       "      <td>63309</td>\n",
       "      <td>KAMIQ STYLE  Automatyczna  1.0 TSI 110 KM</td>\n",
       "      <td>Oferta leasingu online</td>\n",
       "      <td>in stock</td>\n",
       "      <td>NEW</td>\n",
       "      <td>105600 PLN</td>\n",
       "      <td>https://sklep.skoda-auto.pl/skoda-kamiq-1-0-ts...</td>\n",
       "      <td>https://sklep.skoda-auto.pl/media/catalog/prod...</td>\n",
       "      <td>ŠKODA</td>\n",
       "      <td>1</td>\n",
       "      <td>...</td>\n",
       "      <td>FWD</td>\n",
       "      <td>TMBGR6NWXN3010383</td>\n",
       "      <td>Biel Candy Niemetalizowany</td>\n",
       "      <td>NEW</td>\n",
       "      <td>GASOLINE</td>\n",
       "      <td>Biel Candy Niemetalizowany</td>\n",
       "      <td>975.04 PLN</td>\n",
       "      <td>1.0 TSI 110 KM</td>\n",
       "      <td>{addr1: 'Unii Lubelskiej 5', city: 'Poznań', r...</td>\n",
       "      <td>### Wyposażenie dodatkowe ###     --- Pakiety ...</td>\n",
       "    </tr>\n",
       "    <tr>\n",
       "      <th>3</th>\n",
       "      <td>63310</td>\n",
       "      <td>KAMIQ STYLE  Automatyczna  1.0 TSI 110 KM</td>\n",
       "      <td>Oferta leasingu online</td>\n",
       "      <td>in stock</td>\n",
       "      <td>NEW</td>\n",
       "      <td>106450 PLN</td>\n",
       "      <td>https://sklep.skoda-auto.pl/skoda-kamiq-1-0-ts...</td>\n",
       "      <td>https://sklep.skoda-auto.pl/media/catalog/prod...</td>\n",
       "      <td>ŠKODA</td>\n",
       "      <td>1</td>\n",
       "      <td>...</td>\n",
       "      <td>FWD</td>\n",
       "      <td>TMBGR6NW0N3010229</td>\n",
       "      <td>Błękit Race Metalizowany</td>\n",
       "      <td>NEW</td>\n",
       "      <td>GASOLINE</td>\n",
       "      <td>Błękit Race Metalizowany</td>\n",
       "      <td>982.89 PLN</td>\n",
       "      <td>1.0 TSI 110 KM</td>\n",
       "      <td>{addr1: 'Unii Lubelskiej 5', city: 'Poznań', r...</td>\n",
       "      <td>### Wyposażenie dodatkowe ###     --- Pakiety ...</td>\n",
       "    </tr>\n",
       "    <tr>\n",
       "      <th>4</th>\n",
       "      <td>62987</td>\n",
       "      <td>SUPERB ACTIVE  Manualna  1.5 TSI 150 KM</td>\n",
       "      <td>Oferta leasingu online</td>\n",
       "      <td>in stock</td>\n",
       "      <td>NEW</td>\n",
       "      <td>105050 PLN</td>\n",
       "      <td>https://sklep.skoda-auto.pl/skoda-superb-1-5-t...</td>\n",
       "      <td>https://sklep.skoda-auto.pl/media/catalog/prod...</td>\n",
       "      <td>ŠKODA</td>\n",
       "      <td>1</td>\n",
       "      <td>...</td>\n",
       "      <td>FWD</td>\n",
       "      <td>TMBAN7NP3M7073770</td>\n",
       "      <td>Błękit Energy Niemetalizowany</td>\n",
       "      <td>NEW</td>\n",
       "      <td>GASOLINE</td>\n",
       "      <td>Błękit Energy Niemetalizowany</td>\n",
       "      <td>991.99 PLN</td>\n",
       "      <td>1.5 TSI 150 KM</td>\n",
       "      <td>{addr1: 'Jana Pawła II 127', city: 'Bydgoszcz'...</td>\n",
       "      <td>### Wyposażenie dodatkowe ###     --- Koła zap...</td>\n",
       "    </tr>\n",
       "  </tbody>\n",
       "</table>\n",
       "<p>5 rows × 26 columns</p>\n",
       "</div>"
      ],
      "text/plain": [
       "      id                                      title             description  \\\n",
       "0  62462   KAMIQ AMBITION  Manualna  1.0 TSI 110 KM  Oferta leasingu online   \n",
       "1  63784  KAMIQ STYLE  Automatyczna  1.0 TSI 110 KM  Oferta leasingu online   \n",
       "2  63309  KAMIQ STYLE  Automatyczna  1.0 TSI 110 KM  Oferta leasingu online   \n",
       "3  63310  KAMIQ STYLE  Automatyczna  1.0 TSI 110 KM  Oferta leasingu online   \n",
       "4  62987    SUPERB ACTIVE  Manualna  1.5 TSI 150 KM  Oferta leasingu online   \n",
       "\n",
       "  availability condition       price  \\\n",
       "0     in stock       NEW   90900 PLN   \n",
       "1     in stock       NEW  105600 PLN   \n",
       "2     in stock       NEW  105600 PLN   \n",
       "3     in stock       NEW  106450 PLN   \n",
       "4     in stock       NEW  105050 PLN   \n",
       "\n",
       "                                                link  \\\n",
       "0  https://sklep.skoda-auto.pl/skoda-kamiq-1-0-ts...   \n",
       "1  https://sklep.skoda-auto.pl/skoda-kamiq-1-0-ts...   \n",
       "2  https://sklep.skoda-auto.pl/skoda-kamiq-1-0-ts...   \n",
       "3  https://sklep.skoda-auto.pl/skoda-kamiq-1-0-ts...   \n",
       "4  https://sklep.skoda-auto.pl/skoda-superb-1-5-t...   \n",
       "\n",
       "                                          image_link  brand  inventory  ...  \\\n",
       "0  https://sklep.skoda-auto.pl/media/catalog/prod...  ŠKODA          1  ...   \n",
       "1  https://sklep.skoda-auto.pl/media/catalog/prod...  ŠKODA          1  ...   \n",
       "2  https://sklep.skoda-auto.pl/media/catalog/prod...  ŠKODA          1  ...   \n",
       "3  https://sklep.skoda-auto.pl/media/catalog/prod...  ŠKODA          1  ...   \n",
       "4  https://sklep.skoda-auto.pl/media/catalog/prod...  ŠKODA          1  ...   \n",
       "\n",
       "  drivetrain                vin                 exterior_color  \\\n",
       "0        FWD  TMBGR6NW4M3140836         Biel Moon Metalizowany   \n",
       "1        FWD  TMBGR6NW5N3016446     Biel Candy Niemetalizowany   \n",
       "2        FWD  TMBGR6NWXN3010383     Biel Candy Niemetalizowany   \n",
       "3        FWD  TMBGR6NW0N3010229       Błękit Race Metalizowany   \n",
       "4        FWD  TMBAN7NP3M7073770  Błękit Energy Niemetalizowany   \n",
       "\n",
       "   state_of_vehicle fuel_type               exterior_color.1 custom_label_1  \\\n",
       "0               NEW  GASOLINE         Biel Moon Metalizowany     839.31 PLN   \n",
       "1               NEW  GASOLINE     Biel Candy Niemetalizowany     975.04 PLN   \n",
       "2               NEW  GASOLINE     Biel Candy Niemetalizowany     975.04 PLN   \n",
       "3               NEW  GASOLINE       Błękit Race Metalizowany     982.89 PLN   \n",
       "4               NEW  GASOLINE  Błękit Energy Niemetalizowany     991.99 PLN   \n",
       "\n",
       "   custom_label_2                                     custom_label_3  \\\n",
       "0  1.0 TSI 110 KM  {addr1: 'Toruńska 169', city: 'Włocławek', reg...   \n",
       "1  1.0 TSI 110 KM  {addr1: 'Jadwigi Wajsówny  7-9', city: 'Poznań...   \n",
       "2  1.0 TSI 110 KM  {addr1: 'Unii Lubelskiej 5', city: 'Poznań', r...   \n",
       "3  1.0 TSI 110 KM  {addr1: 'Unii Lubelskiej 5', city: 'Poznań', r...   \n",
       "4  1.5 TSI 150 KM  {addr1: 'Jana Pawła II 127', city: 'Bydgoszcz'...   \n",
       "\n",
       "                                      custom_label_4  \n",
       "0  ### Wyposażenie dodatkowe ###     --- Ochrona ...  \n",
       "1  ### Wyposażenie dodatkowe ###     --- Pakiety ...  \n",
       "2  ### Wyposażenie dodatkowe ###     --- Pakiety ...  \n",
       "3  ### Wyposażenie dodatkowe ###     --- Pakiety ...  \n",
       "4  ### Wyposażenie dodatkowe ###     --- Koła zap...  \n",
       "\n",
       "[5 rows x 26 columns]"
      ]
     },
     "execution_count": 34,
     "metadata": {},
     "output_type": "execute_result"
    }
   ],
   "source": [
    "vv = pd.read_csv('vw_fb_20210902-110445.csv')\n",
    "vv.head()"
   ]
  },
  {
   "cell_type": "code",
   "execution_count": 35,
   "id": "290808e7",
   "metadata": {},
   "outputs": [
    {
     "name": "stdout",
     "output_type": "stream",
     "text": [
      "<class 'pandas.core.frame.DataFrame'>\n",
      "RangeIndex: 71 entries, 0 to 70\n",
      "Data columns (total 26 columns):\n",
      " #   Column                   Non-Null Count  Dtype \n",
      "---  ------                   --------------  ----- \n",
      " 0   id                       71 non-null     int64 \n",
      " 1   title                    71 non-null     object\n",
      " 2   description              71 non-null     object\n",
      " 3   availability             71 non-null     object\n",
      " 4   condition                71 non-null     object\n",
      " 5   price                    71 non-null     object\n",
      " 6   link                     71 non-null     object\n",
      " 7   image_link               71 non-null     object\n",
      " 8   brand                    71 non-null     object\n",
      " 9   inventory                71 non-null     int64 \n",
      " 10  fb_product_category      71 non-null     object\n",
      " 11  google_product_category  71 non-null     object\n",
      " 12  model                    71 non-null     object\n",
      " 13  year                     71 non-null     int64 \n",
      " 14  transmission             71 non-null     object\n",
      " 15  body_style               71 non-null     object\n",
      " 16  drivetrain               71 non-null     object\n",
      " 17  vin                      71 non-null     object\n",
      " 18  exterior_color           71 non-null     object\n",
      " 19  state_of_vehicle         71 non-null     object\n",
      " 20  fuel_type                71 non-null     object\n",
      " 21  exterior_color.1         71 non-null     object\n",
      " 22  custom_label_1           71 non-null     object\n",
      " 23  custom_label_2           71 non-null     object\n",
      " 24  custom_label_3           71 non-null     object\n",
      " 25  custom_label_4           71 non-null     object\n",
      "dtypes: int64(3), object(23)\n",
      "memory usage: 276.7 KB\n"
     ]
    }
   ],
   "source": [
    "vv.info(memory_usage='deep')\n"
   ]
  },
  {
   "cell_type": "code",
   "execution_count": 36,
   "id": "ec9be6de",
   "metadata": {},
   "outputs": [
    {
     "data": {
      "text/plain": [
       "71"
      ]
     },
     "execution_count": 36,
     "metadata": {},
     "output_type": "execute_result"
    }
   ],
   "source": [
    "len(vv)"
   ]
  },
  {
   "cell_type": "code",
   "execution_count": 37,
   "id": "68e2a7c2",
   "metadata": {},
   "outputs": [
    {
     "data": {
      "text/plain": [
       "18"
      ]
     },
     "execution_count": 37,
     "metadata": {},
     "output_type": "execute_result"
    }
   ],
   "source": [
    "vv.title.nunique()"
   ]
  },
  {
   "cell_type": "code",
   "execution_count": 38,
   "id": "5ca61edc",
   "metadata": {},
   "outputs": [],
   "source": [
    "vv.title = vv.title.astype('category')"
   ]
  },
  {
   "cell_type": "code",
   "execution_count": 39,
   "id": "569714b5",
   "metadata": {},
   "outputs": [
    {
     "name": "stdout",
     "output_type": "stream",
     "text": [
      "<class 'pandas.core.frame.DataFrame'>\n",
      "RangeIndex: 71 entries, 0 to 70\n",
      "Data columns (total 26 columns):\n",
      " #   Column                   Non-Null Count  Dtype   \n",
      "---  ------                   --------------  -----   \n",
      " 0   id                       71 non-null     int64   \n",
      " 1   title                    71 non-null     category\n",
      " 2   description              71 non-null     object  \n",
      " 3   availability             71 non-null     object  \n",
      " 4   condition                71 non-null     object  \n",
      " 5   price                    71 non-null     object  \n",
      " 6   link                     71 non-null     object  \n",
      " 7   image_link               71 non-null     object  \n",
      " 8   brand                    71 non-null     object  \n",
      " 9   inventory                71 non-null     int64   \n",
      " 10  fb_product_category      71 non-null     object  \n",
      " 11  google_product_category  71 non-null     object  \n",
      " 12  model                    71 non-null     object  \n",
      " 13  year                     71 non-null     int64   \n",
      " 14  transmission             71 non-null     object  \n",
      " 15  body_style               71 non-null     object  \n",
      " 16  drivetrain               71 non-null     object  \n",
      " 17  vin                      71 non-null     object  \n",
      " 18  exterior_color           71 non-null     object  \n",
      " 19  state_of_vehicle         71 non-null     object  \n",
      " 20  fuel_type                71 non-null     object  \n",
      " 21  exterior_color.1         71 non-null     object  \n",
      " 22  custom_label_1           71 non-null     object  \n",
      " 23  custom_label_2           71 non-null     object  \n",
      " 24  custom_label_3           71 non-null     object  \n",
      " 25  custom_label_4           71 non-null     object  \n",
      "dtypes: category(1), int64(3), object(22)\n",
      "memory usage: 271.9 KB\n"
     ]
    }
   ],
   "source": [
    "vv.info(memory_usage='deep')"
   ]
  },
  {
   "cell_type": "code",
   "execution_count": 40,
   "id": "4e1acb60",
   "metadata": {},
   "outputs": [
    {
     "data": {
      "text/plain": [
       "id     title                                                  description             availability  condition  price       link                                                                                                                                               image_link                                                                                                                                              brand  inventory  fb_product_category  google_product_category  model                year  transmission  body_style  drivetrain  vin                exterior_color                  state_of_vehicle  fuel_type  exterior_color.1                custom_label_1  custom_label_2  custom_label_3                                                                                                                           custom_label_4                                                                                                                                                                                                                                                                                                                                                                                                                                                                                                                                                                                                                                                                                                                                                                                                                                                                                                                                                                                                                                                                                                                                                                                                    \n",
       "58304  OCTAVIA COMBI STYLE  Manualna  1.5 TSI 150 KM          Oferta leasingu online  in stock      NEW        117800 PLN  https://sklep.skoda-auto.pl/skoda-octavia-combi-1-5-tsi-110-kw-150-km-6-biegowa-manualna-blekit-race-metalizowany-tmbjr7nxxmy103085.html           https://sklep.skoda-auto.pl/media/catalog/product/cache/779e34063ea37c481ddb6652b1f2b61e/f/9/f9bc501182ebdfe5107e72851ae2652e-TMBJR7NXXMY103085-EF.png  ŠKODA  1          inne                 Pojazdy i części         OCTAVIA COMBI        2021  MANUAL        WAGON       FWD         TMBJR7NXXMY103085  Błękit Race Metalizowany        NEW               GASOLINE   Błękit Race Metalizowany        1050.67 PLN     1.5 TSI 150 KM  {addr1: 'Armii Krajowej 46', city: 'Wrocław', region: 'Silesian Voivodeship', postal_code: '50-541', country: 'Poland'}                  ### Wyposażenie dodatkowe ###     --- Ochrona pojazdu ---  - KESSY FULL – bezkluczykowy system obsługi samochodu z alarmem (z funkcją SAFE),  --- Pakiety promocyjne ---  - Pakiet Selection: W skład pakietu promocyjnego wchodzą: ADAPTIVE CRUISE CONTROL - aktywny tempomat do 210 km/h, Pakiet oświetlenia LED AMBIENTE, Elektrycznie sterowana pokrywa bagażnika, Elektryczna blokada otwarcia tylnych drzwi od wewnątrz, Elektrycznie zwalniana półka bagażnika (tylko dla wersji Combi),        Przedstawione informacje należy traktować wyłącznie orientacyjnie i nie stanowią one oferty w rozumieniu Kodeksu cywilnego oraz nie są wiążące. Prezentowane informacje nie stanowią zapewnienia w rozumieniu art. 556(1)§2 Kodeksu cywilnego. Zużycie paliwa, emisja CO2 i zużycie energii elektrycznej zostało określone zgodnie z procedurą WLTP. O szczegóły zapytaj Autoryzowanego Dealera marki Skoda lub sprawdź na stronie https://www.skoda-auto.pl/swiat-skody/wltp                                                                                                                                                                                                                                  1\n",
       "63322  FABIA COMBI CLASSIC AMBITION  Manualna  1.0 MPI 60 KM  Oferta leasingu online  in stock      NEW        63850 PLN   https://sklep.skoda-auto.pl/skoda-fabia-combi-classic-1-0-mpi-44-kw-60-km-5-biegowa-manualna-srebrny-brillant-metalizowany-tmbja6nj1nz009251.html  https://sklep.skoda-auto.pl/media/catalog/product/cache/779e34063ea37c481ddb6652b1f2b61e/7/d/7dbe8cada16b8532383e7353f0e0e6c3-TMBJA6NJ1NZ009251-EF.png  ŠKODA  1          inne                 Pojazdy i części         FABIA COMBI CLASSIC  2021  MANUAL        WAGON       FWD         TMBJA6NJ1NZ009251  Srebrny Brillant Metalizowany   NEW               GASOLINE   Srebrny Brillant Metalizowany   717.18 PLN      1.0 MPI 60 KM   {addr1: 'Hutnicza 2 A', city: 'Lubin', region: 'Silesian Voivodeship', postal_code: '59-300', country: 'Poland'}                         ### Wyposażenie dodatkowe ###     --- Pakiety promocyjne ---  - Pakiet COMFORT: W skład pakietu promocyjnego wchodzą: Czujniki parkowania z tyłu, Dwuramienna skórzana kierownica wielofunkcyjna (radio + telefon), Tempomat, Radio SWING PLUS (SmartLink, ŠKODA Surround, 2 dodatkowe głośniki z tyłu), Obręcze kół ze stopów lekkich CYGNUS 6J x 15\" z oponami 185/60 R15,  --- Koła zapasowe/opony ---  - Zapasowe koło stalowe pełnowymiarowe,        Przedstawione informacje należy traktować wyłącznie orientacyjnie i nie stanowią one oferty w rozumieniu Kodeksu cywilnego oraz nie są wiążące. Prezentowane informacje nie stanowią zapewnienia w rozumieniu art. 556(1)§2 Kodeksu cywilnego. Zużycie paliwa, emisja CO2 i zużycie energii elektrycznej zostało określone zgodnie z procedurą WLTP. O szczegóły zapytaj Autoryzowanego Dealera marki Skoda lub sprawdź na stronie https://www.skoda-auto.pl/swiat-skody/wltp                                                                                                                                                                                                                                                                               1\n",
       "63409  FABIA COMBI CLASSIC AMBITION  Manualna  1.0 TSI 95 KM  Oferta leasingu online  in stock      NEW        68350 PLN   https://sklep.skoda-auto.pl/skoda-fabia-combi-classic-1-0-tsi-70-kw-95-km-5-biegowa-manualna-biel-candy-niemetalizowany-tmbjp6nj1nz010415.html     https://sklep.skoda-auto.pl/media/catalog/product/cache/779e34063ea37c481ddb6652b1f2b61e/8/4/8452a1bb395e9113d2e8b06b8a1c456d-TMBJP6NJ1NZ010415-EF.png  ŠKODA  1          inne                 Pojazdy i części         FABIA COMBI CLASSIC  2021  MANUAL        WAGON       FWD         TMBJP6NJ1NZ010415  Biel Candy Niemetalizowany      NEW               GASOLINE   Biel Candy Niemetalizowany      715.13 PLN      1.0 TSI 95 KM   {addr1: 'Unii Lubelskiej 5', city: 'Poznań', region: 'Silesian Voivodeship', postal_code: '61-249', country: 'Poland'}                   ### Wyposażenie dodatkowe ###     --- Pakiety promocyjne ---  - Pakiet COMFORT: W skład pakietu promocyjnego wchodzą: Czujniki parkowania z tyłu, Dwuramienna skórzana kierownica wielofunkcyjna (radio + telefon), Tempomat, Radio SWING PLUS (SmartLink, ŠKODA Surround, 2 dodatkowe głośniki z tyłu), Obręcze kół ze stopów lekkich CYGNUS 6J x 15\" z oponami 185/60 R15,  --- Komfort ---  - Pakiet zimowy,        Przedstawione informacje należy traktować wyłącznie orientacyjnie i nie stanowią one oferty w rozumieniu Kodeksu cywilnego oraz nie są wiążące. Prezentowane informacje nie stanowią zapewnienia w rozumieniu art. 556(1)§2 Kodeksu cywilnego. Zużycie paliwa, emisja CO2 i zużycie energii elektrycznej zostało określone zgodnie z procedurą WLTP. O szczegóły zapytaj Autoryzowanego Dealera marki Skoda lub sprawdź na stronie https://www.skoda-auto.pl/swiat-skody/wltp                                                                                                                                                                                                                                                                                                                  1\n",
       "63388  OCTAVIA COMBI STYLE  Manualna  2.0 TDI 150 KM          Oferta leasingu online  in stock      NEW        140200 PLN  https://sklep.skoda-auto.pl/skoda-octavia-combi-2-0-tdi-110-kw-150-km-6-biegowa-manualna-czern-magic-metalizowany-tmbjj7nxxny011970.html           https://sklep.skoda-auto.pl/media/catalog/product/cache/779e34063ea37c481ddb6652b1f2b61e/d/8/d85c85715c113f8063b6ce8daa423372-TMBJJ7NXXNY011970-EF.png  ŠKODA  1          inne                 Pojazdy i części         OCTAVIA COMBI        2021  MANUAL        WAGON       FWD         TMBJJ7NXXNY011970  Czerń Magic Metalizowany        NEW               DIESEL     Czerń Magic Metalizowany        1716.79 PLN     2.0 TDI 150 KM  {addr1: 'Jerozolimskie 249b', city: 'Opacz Kolonia', region: 'Silesian Voivodeship', postal_code: '05-816', country: 'Poland'}           ### Wyposażenie dodatkowe ###     --- Tapicerki ---  - Tapicerka - Suedia / skóra,  --- Pakiety promocyjne ---  - Pakiet Selection: W skład pakietu promocyjnego wchodzą: ADAPTIVE CRUISE CONTROL - aktywny tempomat do 210 km/h, Pakiet oświetlenia LED AMBIENTE, Bezdotykowo otwierana elektrycznie sterowana pokrywa bagażnika, Elektrycznie zwalniana półka bagażnika - dla wersji Combi,        Przedstawione informacje należy traktować wyłącznie orientacyjnie i nie stanowią one oferty w rozumieniu Kodeksu cywilnego oraz nie są wiążące. Prezentowane informacje nie stanowią zapewnienia w rozumieniu art. 556(1)§2 Kodeksu cywilnego. Zużycie paliwa, emisja CO2 i zużycie energii elektrycznej zostało określone zgodnie z procedurą WLTP. O szczegóły zapytaj Autoryzowanego Dealera marki Skoda lub sprawdź na stronie https://www.skoda-auto.pl/swiat-skody/wltp                                                                                                                                                                                                                                                                                                                                    1\n",
       "63382  FABIA COMBI CLASSIC AMBITION  Manualna  1.0 TSI 95 KM  Oferta leasingu online  in stock      NEW        69150 PLN   https://sklep.skoda-auto.pl/skoda-fabia-combi-classic-1-0-tsi-70-kw-95-km-5-biegowa-manualna-blekit-race-metalizowany-tmbjp6nj3nz010075.html       https://sklep.skoda-auto.pl/media/catalog/product/cache/779e34063ea37c481ddb6652b1f2b61e/1/1/111d885ac39abb9903828a12e2a67f0e-TMBJP6NJ3NZ010075-EF.png  ŠKODA  1          inne                 Pojazdy i części         FABIA COMBI CLASSIC  2021  MANUAL        WAGON       FWD         TMBJP6NJ3NZ010075  Błękit Race Metalizowany        NEW               GASOLINE   Błękit Race Metalizowany        723.50 PLN      1.0 TSI 95 KM   {addr1: 'Unii Lubelskiej 5', city: 'Poznań', region: 'Silesian Voivodeship', postal_code: '61-249', country: 'Poland'}                   ### Wyposażenie dodatkowe ###     --- Pakiety promocyjne ---  - Pakiet COMFORT: W skład pakietu promocyjnego wchodzą: Czujniki parkowania z tyłu, Dwuramienna skórzana kierownica wielofunkcyjna (radio + telefon), Tempomat, Radio SWING PLUS (SmartLink, ŠKODA Surround, 2 dodatkowe głośniki z tyłu), Obręcze kół ze stopów lekkich CYGNUS 6J x 15\" z oponami 185/60 R15,  --- Komfort ---  - Pakiet zimowy,        Przedstawione informacje należy traktować wyłącznie orientacyjnie i nie stanowią one oferty w rozumieniu Kodeksu cywilnego oraz nie są wiążące. Prezentowane informacje nie stanowią zapewnienia w rozumieniu art. 556(1)§2 Kodeksu cywilnego. Zużycie paliwa, emisja CO2 i zużycie energii elektrycznej zostało określone zgodnie z procedurą WLTP. O szczegóły zapytaj Autoryzowanego Dealera marki Skoda lub sprawdź na stronie https://www.skoda-auto.pl/swiat-skody/wltp                                                                                                                                                                                                                                                                                                                  1\n",
       "                                                                                                                                                                                                                                                                                                                                                                                                                                                                                                                                                                                                                                                                                                                                                                                                                                                                                                                                                                                                                                                                                                                                                                                                                                                                                                                                                                                                                                                                                                                                                                                                                                                                                                                                                                                                                                                                                                                                                                                                                                                                                     ..\n",
       "63026  OCTAVIA COMBI STYLE  Manualna  1.5 TSI 150 KM          Oferta leasingu online  in stock      NEW        115900 PLN  https://sklep.skoda-auto.pl/skoda-octavia-combi-1-5-tsi-110-kw-150-km-6-biegowa-manualna-czern-magic-metalizowany-tmbjr7nx8my192283.html           https://sklep.skoda-auto.pl/media/catalog/product/cache/779e34063ea37c481ddb6652b1f2b61e/6/3/63e10efbaf583094dd44f055615a2c18-TMBJR7NX8MY192283-EF.png  ŠKODA  1          inne                 Pojazdy i części         OCTAVIA COMBI        2021  MANUAL        WAGON       FWD         TMBJR7NX8MY192283  Czerń Magic Metalizowany        NEW               GASOLINE   Czerń Magic Metalizowany        1033.72 PLN     1.5 TSI 150 KM  {addr1: 'Modlińska 224', city: 'Warszawa', region: 'Silesian Voivodeship', postal_code: '03-119', country: 'Poland'}                     ### Wyposażenie dodatkowe ###     --- Pakiety promocyjne ---  - Pakiet Selection: W skład pakietu promocyjnego wchodzą: ADAPTIVE CRUISE CONTROL - aktywny tempomat do 210 km/h, Pakiet oświetlenia LED AMBIENTE, Elektrycznie sterowana pokrywa bagażnika, Elektryczna blokada otwarcia tylnych drzwi od wewnątrz, Elektrycznie zwalniana półka bagażnika (tylko dla wersji Combi),        Przedstawione informacje należy traktować wyłącznie orientacyjnie i nie stanowią one oferty w rozumieniu Kodeksu cywilnego oraz nie są wiążące. Prezentowane informacje nie stanowią zapewnienia w rozumieniu art. 556(1)§2 Kodeksu cywilnego. Zużycie paliwa, emisja CO2 i zużycie energii elektrycznej zostało określone zgodnie z procedurą WLTP. O szczegóły zapytaj Autoryzowanego Dealera marki Skoda lub sprawdź na stronie https://www.skoda-auto.pl/swiat-skody/wltp                                                                                                                                                                                                                                                                                                                                              1\n",
       "62988  SUPERB ACTIVE  Manualna  1.5 TSI 150 KM                Oferta leasingu online  in stock      NEW        105050 PLN  https://sklep.skoda-auto.pl/skoda-superb-1-5-tsi-110-kw-150-km-6-biegowa-manualna-blekit-energy-niemetalizowany-tmban7np5m7072314.html             https://sklep.skoda-auto.pl/media/catalog/product/cache/779e34063ea37c481ddb6652b1f2b61e/c/f/cf19d9dd6d5f71d61cf4649d8ee86c23-TMBAN7NP5M7072314-EF.png  ŠKODA  1          inne                 Pojazdy i części         SUPERB               2021  MANUAL        SEDAN       FWD         TMBAN7NP5M7072314  Błękit Energy Niemetalizowany   NEW               GASOLINE   Błękit Energy Niemetalizowany   991.99 PLN      1.5 TSI 150 KM  {addr1: 'Jana Pawła II 127', city: 'Bydgoszcz', region: 'Silesian Voivodeship', postal_code: '85-140', country: 'Poland'}                ### Wyposażenie dodatkowe ###     --- Koła zapasowe/opony ---  - Zapasowe koło stalowe dojazdowe, podnośnik, klucz, bez zestawu naprawczego,        Przedstawione informacje należy traktować wyłącznie orientacyjnie i nie stanowią one oferty w rozumieniu Kodeksu cywilnego oraz nie są wiążące. Prezentowane informacje nie stanowią zapewnienia w rozumieniu art. 556(1)§2 Kodeksu cywilnego. Zużycie paliwa, emisja CO2 i zużycie energii elektrycznej zostało określone zgodnie z procedurą WLTP. O szczegóły zapytaj Autoryzowanego Dealera marki Skoda lub sprawdź na stronie https://www.skoda-auto.pl/swiat-skody/wltp                                                                                                                                                                                                                                                                                                                                                                                                                                                                                                                                                                                     1\n",
       "62987  SUPERB ACTIVE  Manualna  1.5 TSI 150 KM                Oferta leasingu online  in stock      NEW        105050 PLN  https://sklep.skoda-auto.pl/skoda-superb-1-5-tsi-110-kw-150-km-6-biegowa-manualna-blekit-energy-niemetalizowany-tmban7np3m7073770.html             https://sklep.skoda-auto.pl/media/catalog/product/cache/779e34063ea37c481ddb6652b1f2b61e/c/f/cf19d9dd6d5f71d61cf4649d8ee86c23-TMBAN7NP3M7073770-EF.png  ŠKODA  1          inne                 Pojazdy i części         SUPERB               2021  MANUAL        SEDAN       FWD         TMBAN7NP3M7073770  Błękit Energy Niemetalizowany   NEW               GASOLINE   Błękit Energy Niemetalizowany   991.99 PLN      1.5 TSI 150 KM  {addr1: 'Jana Pawła II 127', city: 'Bydgoszcz', region: 'Silesian Voivodeship', postal_code: '85-140', country: 'Poland'}                ### Wyposażenie dodatkowe ###     --- Koła zapasowe/opony ---  - Zapasowe koło stalowe dojazdowe, podnośnik, klucz, bez zestawu naprawczego,        Przedstawione informacje należy traktować wyłącznie orientacyjnie i nie stanowią one oferty w rozumieniu Kodeksu cywilnego oraz nie są wiążące. Prezentowane informacje nie stanowią zapewnienia w rozumieniu art. 556(1)§2 Kodeksu cywilnego. Zużycie paliwa, emisja CO2 i zużycie energii elektrycznej zostało określone zgodnie z procedurą WLTP. O szczegóły zapytaj Autoryzowanego Dealera marki Skoda lub sprawdź na stronie https://www.skoda-auto.pl/swiat-skody/wltp                                                                                                                                                                                                                                                                                                                                                                                                                                                                                                                                                                                     1\n",
       "62925  OCTAVIA COMBI STYLE  Manualna  1.5 TSI 150 KM          Oferta leasingu online  in stock      NEW        121750 PLN  https://sklep.skoda-auto.pl/skoda-octavia-combi-1-5-tsi-110-kw-150-km-6-biegowa-manualna-srebrny-brilliant-metalizowany-tmbjr7nx4my190806.html     https://sklep.skoda-auto.pl/media/catalog/product/cache/779e34063ea37c481ddb6652b1f2b61e/b/0/b0eb91bf002c3446d1d1f3af0c9ebeed-TMBJR7NX4MY190806-EF.png  ŠKODA  1          inne                 Pojazdy i części         OCTAVIA COMBI        2021  MANUAL        WAGON       FWD         TMBJR7NX4MY190806  Srebrny Brilliant Metalizowany  NEW               GASOLINE   Srebrny Brilliant Metalizowany  1085.90 PLN     1.5 TSI 150 KM  {addr1: 'Gen. Władysława Andersa 586', city: 'Bielsko-Biała', region: 'Silesian Voivodeship', postal_code: '43-300', country: 'Poland'}  ### Wyposażenie dodatkowe ###     --- Koła ---  - Obręcze kół ze stopów lekkich PERSEUS 7, 5J x 18\",  --- Ochrona pojazdu ---  - KESSY FULL – bezkluczykowy system obsługi samochodu z alarmem (z funkcją SAFE),        Przedstawione informacje należy traktować wyłącznie orientacyjnie i nie stanowią one oferty w rozumieniu Kodeksu cywilnego oraz nie są wiążące. Prezentowane informacje nie stanowią zapewnienia w rozumieniu art. 556(1)§2 Kodeksu cywilnego. Zużycie paliwa, emisja CO2 i zużycie energii elektrycznej zostało określone zgodnie z procedurą WLTP. O szczegóły zapytaj Autoryzowanego Dealera marki Skoda lub sprawdź na stronie https://www.skoda-auto.pl/swiat-skody/wltp                                                                                                                                                                                                                                                                                                                                                                                                                                                                                                                 1\n",
       "63784  KAMIQ STYLE  Automatyczna  1.0 TSI 110 KM              Oferta leasingu online  in stock      NEW        105600 PLN  https://sklep.skoda-auto.pl/skoda-kamiq-1-0-tsi-81-kw-110-km-7-biegowa-dsg-biel-candy-niemetalizowany-tmbgr6nw5n3016446.html                       https://sklep.skoda-auto.pl/media/catalog/product/cache/779e34063ea37c481ddb6652b1f2b61e/1/1/11733b653d54acaca88c76c778c5b4e9-TMBGR6NW5N3016446-EF.png  ŠKODA  1          inne                 Pojazdy i części         KAMIQ                2021  AUTOMATIC     HATCHBACK   FWD         TMBGR6NW5N3016446  Biel Candy Niemetalizowany      NEW               GASOLINE   Biel Candy Niemetalizowany      975.04 PLN      1.0 TSI 110 KM  {addr1: 'Jadwigi Wajsówny  7-9', city: 'Poznań', region: 'Silesian Voivodeship', postal_code: '60-002', country: 'Poland'}               ### Wyposażenie dodatkowe ###     --- Pakiety promocyjne ---  - Pakiet COMFORT: W skład pakietu promocyjnego wchodzą: LIGHT AND RAIN ASSIST – czujnik zmierzchu i deszczu, automatycznie ściemniające się lusterko wsteczne (Coming/Leaving Home, Tunnel Light), Reflektory przednie FULL LED z funkcją adaptacji świateł AFS, ADAPTIVE CRUISE CONTROL – aktywny tempomat do 210 km/h, Elektrycznie sterowane, podgrzewane, składane, lusterka boczne,  - Pakiet TECH: W skład pakietu promocyjnego wchodzą: Bluetooth Plus (połączenie z anteną zewnętrzną, bezprzewodowa ładowarka do smartfona)  , VIRTUAL COCKPIT - Cyfrowy zestaw wskaźników, Skórzana podgrzewana kierownica, Elektrycznie sterowana pokrywa bagażnika,        Przedstawione informacje należy traktować wyłącznie orientacyjnie i nie stanowią one oferty w rozumieniu Kodeksu cywilnego oraz nie są wiążące. Prezentowane informacje nie stanowią zapewnienia w rozumieniu art. 556(1)§2 Kodeksu cywilnego. Zużycie paliwa, emisja CO2 i zużycie energii elektrycznej zostało określone zgodnie z procedurą WLTP. O szczegóły zapytaj Autoryzowanego Dealera marki Skoda lub sprawdź na stronie https://www.skoda-auto.pl/swiat-skody/wltp    1\n",
       "Length: 71, dtype: int64"
      ]
     },
     "execution_count": 40,
     "metadata": {},
     "output_type": "execute_result"
    }
   ],
   "source": [
    "vv.value_counts()"
   ]
  },
  {
   "cell_type": "code",
   "execution_count": 41,
   "id": "435119d5",
   "metadata": {},
   "outputs": [
    {
     "data": {
      "text/plain": [
       "0      90900 PLN\n",
       "1     105600 PLN\n",
       "2     105600 PLN\n",
       "3     106450 PLN\n",
       "4     105050 PLN\n",
       "         ...    \n",
       "66     69150 PLN\n",
       "67     64800 PLN\n",
       "68     69600 PLN\n",
       "69     69600 PLN\n",
       "70     64950 PLN\n",
       "Name: price, Length: 71, dtype: object"
      ]
     },
     "execution_count": 41,
     "metadata": {},
     "output_type": "execute_result"
    }
   ],
   "source": [
    "vv.price\n"
   ]
  },
  {
   "cell_type": "code",
   "execution_count": 42,
   "id": "f167fc3e",
   "metadata": {},
   "outputs": [],
   "source": [
    "vv.price = vv.price.str.replace(' PLN', '')"
   ]
  },
  {
   "cell_type": "code",
   "execution_count": 43,
   "id": "884c2c6d",
   "metadata": {},
   "outputs": [],
   "source": [
    "vv.price = vv.price.astype('int')"
   ]
  },
  {
   "cell_type": "code",
   "execution_count": 46,
   "id": "b3e73355",
   "metadata": {},
   "outputs": [
    {
     "name": "stdout",
     "output_type": "stream",
     "text": [
      "<class 'pandas.core.frame.DataFrame'>\n",
      "RangeIndex: 71 entries, 0 to 70\n",
      "Data columns (total 26 columns):\n",
      " #   Column                   Non-Null Count  Dtype   \n",
      "---  ------                   --------------  -----   \n",
      " 0   id                       71 non-null     int64   \n",
      " 1   title                    71 non-null     category\n",
      " 2   description              71 non-null     object  \n",
      " 3   availability             71 non-null     object  \n",
      " 4   condition                71 non-null     object  \n",
      " 5   price                    71 non-null     int32   \n",
      " 6   link                     71 non-null     object  \n",
      " 7   image_link               71 non-null     object  \n",
      " 8   brand                    71 non-null     object  \n",
      " 9   inventory                71 non-null     int64   \n",
      " 10  fb_product_category      71 non-null     object  \n",
      " 11  google_product_category  71 non-null     object  \n",
      " 12  model                    71 non-null     object  \n",
      " 13  year                     71 non-null     int64   \n",
      " 14  transmission             71 non-null     object  \n",
      " 15  body_style               71 non-null     object  \n",
      " 16  drivetrain               71 non-null     object  \n",
      " 17  vin                      71 non-null     object  \n",
      " 18  exterior_color           71 non-null     object  \n",
      " 19  state_of_vehicle         71 non-null     object  \n",
      " 20  fuel_type                71 non-null     category\n",
      " 21  exterior_color.1         71 non-null     object  \n",
      " 22  custom_label_1           71 non-null     object  \n",
      " 23  custom_label_2           71 non-null     object  \n",
      " 24  custom_label_3           71 non-null     object  \n",
      " 25  custom_label_4           71 non-null     object  \n",
      "dtypes: category(2), int32(1), int64(3), object(20)\n",
      "memory usage: 336.6 KB\n"
     ]
    }
   ],
   "source": [
    "vv.info(memory_usage='deep')"
   ]
  },
  {
   "cell_type": "code",
   "execution_count": 45,
   "id": "ad09d70a",
   "metadata": {},
   "outputs": [],
   "source": [
    "vv['fuel_type'] = vv['fuel_type'].astype('category')"
   ]
  },
  {
   "cell_type": "code",
   "execution_count": 47,
   "id": "fc505092",
   "metadata": {},
   "outputs": [
    {
     "data": {
      "text/plain": [
       "0      90900\n",
       "1     105600\n",
       "2     105600\n",
       "3     106450\n",
       "4     105050\n",
       "       ...  \n",
       "66     69150\n",
       "67     64800\n",
       "68     69600\n",
       "69     69600\n",
       "70     64950\n",
       "Name: price, Length: 71, dtype: int32"
      ]
     },
     "execution_count": 47,
     "metadata": {},
     "output_type": "execute_result"
    }
   ],
   "source": [
    "vv.price\n"
   ]
  },
  {
   "cell_type": "code",
   "execution_count": null,
   "id": "2e9efe54",
   "metadata": {},
   "outputs": [],
   "source": []
  }
 ],
 "metadata": {
  "kernelspec": {
   "display_name": "Python 3 (ipykernel)",
   "language": "python",
   "name": "python3"
  },
  "language_info": {
   "codemirror_mode": {
    "name": "ipython",
    "version": 3
   },
   "file_extension": ".py",
   "mimetype": "text/x-python",
   "name": "python",
   "nbconvert_exporter": "python",
   "pygments_lexer": "ipython3",
   "version": "3.8.12"
  }
 },
 "nbformat": 4,
 "nbformat_minor": 5
}
