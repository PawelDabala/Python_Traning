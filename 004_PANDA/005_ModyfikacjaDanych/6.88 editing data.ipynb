{
 "cells": [
  {
   "cell_type": "code",
   "execution_count": 1,
   "id": "e5d464fa",
   "metadata": {},
   "outputs": [],
   "source": [
    "import pandas as pd\n",
    "import numpy as np\n",
    "import matplotlib.pyplot as plt\n",
    "import math as math\n",
    "import random as rd"
   ]
  },
  {
   "cell_type": "code",
   "execution_count": 2,
   "id": "50acbdf0",
   "metadata": {},
   "outputs": [
    {
     "data": {
      "text/html": [
       "<div>\n",
       "<style scoped>\n",
       "    .dataframe tbody tr th:only-of-type {\n",
       "        vertical-align: middle;\n",
       "    }\n",
       "\n",
       "    .dataframe tbody tr th {\n",
       "        vertical-align: top;\n",
       "    }\n",
       "\n",
       "    .dataframe thead th {\n",
       "        text-align: right;\n",
       "    }\n",
       "</style>\n",
       "<table border=\"1\" class=\"dataframe\">\n",
       "  <thead>\n",
       "    <tr style=\"text-align: right;\">\n",
       "      <th></th>\n",
       "      <th>ID</th>\n",
       "      <th>District</th>\n",
       "      <th>Group</th>\n",
       "      <th>Age</th>\n",
       "      <th>Holders</th>\n",
       "      <th>Claims</th>\n",
       "    </tr>\n",
       "  </thead>\n",
       "  <tbody>\n",
       "    <tr>\n",
       "      <th>0</th>\n",
       "      <td>1</td>\n",
       "      <td>1</td>\n",
       "      <td>&lt;1l</td>\n",
       "      <td>&lt;25</td>\n",
       "      <td>197</td>\n",
       "      <td>38</td>\n",
       "    </tr>\n",
       "    <tr>\n",
       "      <th>1</th>\n",
       "      <td>2</td>\n",
       "      <td>1</td>\n",
       "      <td>&lt;1l</td>\n",
       "      <td>25-29</td>\n",
       "      <td>264</td>\n",
       "      <td>35</td>\n",
       "    </tr>\n",
       "    <tr>\n",
       "      <th>2</th>\n",
       "      <td>3</td>\n",
       "      <td>1</td>\n",
       "      <td>&lt;1l</td>\n",
       "      <td>30-35</td>\n",
       "      <td>246</td>\n",
       "      <td>20</td>\n",
       "    </tr>\n",
       "    <tr>\n",
       "      <th>3</th>\n",
       "      <td>4</td>\n",
       "      <td>1</td>\n",
       "      <td>&lt;1l</td>\n",
       "      <td>&gt;35</td>\n",
       "      <td>1680</td>\n",
       "      <td>156</td>\n",
       "    </tr>\n",
       "    <tr>\n",
       "      <th>4</th>\n",
       "      <td>5</td>\n",
       "      <td>1</td>\n",
       "      <td>1-1.5l</td>\n",
       "      <td>&lt;25</td>\n",
       "      <td>284</td>\n",
       "      <td>63</td>\n",
       "    </tr>\n",
       "  </tbody>\n",
       "</table>\n",
       "</div>"
      ],
      "text/plain": [
       "   ID  District   Group    Age  Holders  Claims\n",
       "0   1         1     <1l    <25      197      38\n",
       "1   2         1     <1l  25-29      264      35\n",
       "2   3         1     <1l  30-35      246      20\n",
       "3   4         1     <1l    >35     1680     156\n",
       "4   5         1  1-1.5l    <25      284      63"
      ]
     },
     "execution_count": 2,
     "metadata": {},
     "output_type": "execute_result"
    }
   ],
   "source": [
    "frame = pd.read_csv('insurance.csv')\n",
    "frame.head()"
   ]
  },
  {
   "cell_type": "code",
   "execution_count": 3,
   "id": "2ddf1587",
   "metadata": {},
   "outputs": [
    {
     "data": {
      "text/plain": [
       "20"
      ]
     },
     "execution_count": 3,
     "metadata": {},
     "output_type": "execute_result"
    }
   ],
   "source": [
    "frame.loc[2, 'Claims']"
   ]
  },
  {
   "cell_type": "code",
   "execution_count": 4,
   "id": "955e24ed",
   "metadata": {},
   "outputs": [],
   "source": [
    "frame.loc[2, 'Claims'] = 19"
   ]
  },
  {
   "cell_type": "code",
   "execution_count": 5,
   "id": "3eb1d4d0",
   "metadata": {},
   "outputs": [
    {
     "data": {
      "text/html": [
       "<div>\n",
       "<style scoped>\n",
       "    .dataframe tbody tr th:only-of-type {\n",
       "        vertical-align: middle;\n",
       "    }\n",
       "\n",
       "    .dataframe tbody tr th {\n",
       "        vertical-align: top;\n",
       "    }\n",
       "\n",
       "    .dataframe thead th {\n",
       "        text-align: right;\n",
       "    }\n",
       "</style>\n",
       "<table border=\"1\" class=\"dataframe\">\n",
       "  <thead>\n",
       "    <tr style=\"text-align: right;\">\n",
       "      <th></th>\n",
       "      <th>ID</th>\n",
       "      <th>District</th>\n",
       "      <th>Group</th>\n",
       "      <th>Age</th>\n",
       "      <th>Holders</th>\n",
       "      <th>Claims</th>\n",
       "    </tr>\n",
       "  </thead>\n",
       "  <tbody>\n",
       "    <tr>\n",
       "      <th>0</th>\n",
       "      <td>1</td>\n",
       "      <td>1</td>\n",
       "      <td>&lt;1l</td>\n",
       "      <td>&lt;25</td>\n",
       "      <td>197</td>\n",
       "      <td>38</td>\n",
       "    </tr>\n",
       "    <tr>\n",
       "      <th>1</th>\n",
       "      <td>2</td>\n",
       "      <td>1</td>\n",
       "      <td>&lt;1l</td>\n",
       "      <td>25-29</td>\n",
       "      <td>264</td>\n",
       "      <td>35</td>\n",
       "    </tr>\n",
       "    <tr>\n",
       "      <th>2</th>\n",
       "      <td>3</td>\n",
       "      <td>1</td>\n",
       "      <td>&lt;1l</td>\n",
       "      <td>30-35</td>\n",
       "      <td>246</td>\n",
       "      <td>19</td>\n",
       "    </tr>\n",
       "    <tr>\n",
       "      <th>3</th>\n",
       "      <td>4</td>\n",
       "      <td>1</td>\n",
       "      <td>&lt;1l</td>\n",
       "      <td>&gt;35</td>\n",
       "      <td>1680</td>\n",
       "      <td>156</td>\n",
       "    </tr>\n",
       "    <tr>\n",
       "      <th>4</th>\n",
       "      <td>5</td>\n",
       "      <td>1</td>\n",
       "      <td>1-1.5l</td>\n",
       "      <td>&lt;25</td>\n",
       "      <td>284</td>\n",
       "      <td>63</td>\n",
       "    </tr>\n",
       "  </tbody>\n",
       "</table>\n",
       "</div>"
      ],
      "text/plain": [
       "   ID  District   Group    Age  Holders  Claims\n",
       "0   1         1     <1l    <25      197      38\n",
       "1   2         1     <1l  25-29      264      35\n",
       "2   3         1     <1l  30-35      246      19\n",
       "3   4         1     <1l    >35     1680     156\n",
       "4   5         1  1-1.5l    <25      284      63"
      ]
     },
     "execution_count": 5,
     "metadata": {},
     "output_type": "execute_result"
    }
   ],
   "source": [
    "frame.head()"
   ]
  },
  {
   "cell_type": "code",
   "execution_count": 6,
   "id": "0604ab63",
   "metadata": {},
   "outputs": [
    {
     "data": {
      "text/plain": [
       "0      True\n",
       "1     False\n",
       "2     False\n",
       "3     False\n",
       "4      True\n",
       "      ...  \n",
       "59    False\n",
       "60     True\n",
       "61    False\n",
       "62    False\n",
       "63    False\n",
       "Name: Age, Length: 64, dtype: bool"
      ]
     },
     "execution_count": 6,
     "metadata": {},
     "output_type": "execute_result"
    }
   ],
   "source": [
    "frame['Age'] == '<25'"
   ]
  },
  {
   "cell_type": "code",
   "execution_count": 7,
   "id": "f9867043",
   "metadata": {},
   "outputs": [],
   "source": [
    "isYounger25 = frame['Age'] == '<25'"
   ]
  },
  {
   "cell_type": "code",
   "execution_count": 9,
   "id": "8d3dfb4a",
   "metadata": {},
   "outputs": [
    {
     "data": {
      "text/html": [
       "<div>\n",
       "<style scoped>\n",
       "    .dataframe tbody tr th:only-of-type {\n",
       "        vertical-align: middle;\n",
       "    }\n",
       "\n",
       "    .dataframe tbody tr th {\n",
       "        vertical-align: top;\n",
       "    }\n",
       "\n",
       "    .dataframe thead th {\n",
       "        text-align: right;\n",
       "    }\n",
       "</style>\n",
       "<table border=\"1\" class=\"dataframe\">\n",
       "  <thead>\n",
       "    <tr style=\"text-align: right;\">\n",
       "      <th></th>\n",
       "      <th>ID</th>\n",
       "      <th>District</th>\n",
       "      <th>Group</th>\n",
       "      <th>Age</th>\n",
       "      <th>Holders</th>\n",
       "      <th>Claims</th>\n",
       "    </tr>\n",
       "  </thead>\n",
       "  <tbody>\n",
       "    <tr>\n",
       "      <th>0</th>\n",
       "      <td>1.0</td>\n",
       "      <td>1.0</td>\n",
       "      <td>&lt;1l</td>\n",
       "      <td>&lt;25</td>\n",
       "      <td>197.0</td>\n",
       "      <td>38.0</td>\n",
       "    </tr>\n",
       "    <tr>\n",
       "      <th>4</th>\n",
       "      <td>5.0</td>\n",
       "      <td>1.0</td>\n",
       "      <td>1-1.5l</td>\n",
       "      <td>&lt;25</td>\n",
       "      <td>284.0</td>\n",
       "      <td>63.0</td>\n",
       "    </tr>\n",
       "    <tr>\n",
       "      <th>8</th>\n",
       "      <td>9.0</td>\n",
       "      <td>1.0</td>\n",
       "      <td>1.5-2l</td>\n",
       "      <td>&lt;25</td>\n",
       "      <td>133.0</td>\n",
       "      <td>19.0</td>\n",
       "    </tr>\n",
       "    <tr>\n",
       "      <th>12</th>\n",
       "      <td>13.0</td>\n",
       "      <td>1.0</td>\n",
       "      <td>&gt;2l</td>\n",
       "      <td>&lt;25</td>\n",
       "      <td>24.0</td>\n",
       "      <td>4.0</td>\n",
       "    </tr>\n",
       "    <tr>\n",
       "      <th>16</th>\n",
       "      <td>17.0</td>\n",
       "      <td>2.0</td>\n",
       "      <td>&lt;1l</td>\n",
       "      <td>&lt;25</td>\n",
       "      <td>85.0</td>\n",
       "      <td>22.0</td>\n",
       "    </tr>\n",
       "  </tbody>\n",
       "</table>\n",
       "</div>"
      ],
      "text/plain": [
       "      ID  District   Group  Age  Holders  Claims\n",
       "0    1.0       1.0     <1l  <25    197.0    38.0\n",
       "4    5.0       1.0  1-1.5l  <25    284.0    63.0\n",
       "8    9.0       1.0  1.5-2l  <25    133.0    19.0\n",
       "12  13.0       1.0     >2l  <25     24.0     4.0\n",
       "16  17.0       2.0     <1l  <25     85.0    22.0"
      ]
     },
     "execution_count": 9,
     "metadata": {},
     "output_type": "execute_result"
    }
   ],
   "source": [
    "frame.where(isYounger25).dropna().head()"
   ]
  },
  {
   "cell_type": "code",
   "execution_count": 10,
   "id": "5ef34c04",
   "metadata": {},
   "outputs": [
    {
     "data": {
      "text/html": [
       "<div>\n",
       "<style scoped>\n",
       "    .dataframe tbody tr th:only-of-type {\n",
       "        vertical-align: middle;\n",
       "    }\n",
       "\n",
       "    .dataframe tbody tr th {\n",
       "        vertical-align: top;\n",
       "    }\n",
       "\n",
       "    .dataframe thead th {\n",
       "        text-align: right;\n",
       "    }\n",
       "</style>\n",
       "<table border=\"1\" class=\"dataframe\">\n",
       "  <thead>\n",
       "    <tr style=\"text-align: right;\">\n",
       "      <th></th>\n",
       "      <th>ID</th>\n",
       "      <th>District</th>\n",
       "      <th>Group</th>\n",
       "      <th>Age</th>\n",
       "      <th>Holders</th>\n",
       "      <th>Claims</th>\n",
       "    </tr>\n",
       "  </thead>\n",
       "  <tbody>\n",
       "    <tr>\n",
       "      <th>0</th>\n",
       "      <td>1</td>\n",
       "      <td>1</td>\n",
       "      <td>&lt;1l</td>\n",
       "      <td>&lt;25</td>\n",
       "      <td>197</td>\n",
       "      <td>38</td>\n",
       "    </tr>\n",
       "    <tr>\n",
       "      <th>4</th>\n",
       "      <td>5</td>\n",
       "      <td>1</td>\n",
       "      <td>1-1.5l</td>\n",
       "      <td>&lt;25</td>\n",
       "      <td>284</td>\n",
       "      <td>63</td>\n",
       "    </tr>\n",
       "    <tr>\n",
       "      <th>8</th>\n",
       "      <td>9</td>\n",
       "      <td>1</td>\n",
       "      <td>1.5-2l</td>\n",
       "      <td>&lt;25</td>\n",
       "      <td>133</td>\n",
       "      <td>19</td>\n",
       "    </tr>\n",
       "    <tr>\n",
       "      <th>12</th>\n",
       "      <td>13</td>\n",
       "      <td>1</td>\n",
       "      <td>&gt;2l</td>\n",
       "      <td>&lt;25</td>\n",
       "      <td>24</td>\n",
       "      <td>4</td>\n",
       "    </tr>\n",
       "    <tr>\n",
       "      <th>16</th>\n",
       "      <td>17</td>\n",
       "      <td>2</td>\n",
       "      <td>&lt;1l</td>\n",
       "      <td>&lt;25</td>\n",
       "      <td>85</td>\n",
       "      <td>22</td>\n",
       "    </tr>\n",
       "  </tbody>\n",
       "</table>\n",
       "</div>"
      ],
      "text/plain": [
       "    ID  District   Group  Age  Holders  Claims\n",
       "0    1         1     <1l  <25      197      38\n",
       "4    5         1  1-1.5l  <25      284      63\n",
       "8    9         1  1.5-2l  <25      133      19\n",
       "12  13         1     >2l  <25       24       4\n",
       "16  17         2     <1l  <25       85      22"
      ]
     },
     "execution_count": 10,
     "metadata": {},
     "output_type": "execute_result"
    }
   ],
   "source": [
    "frame[isYounger25].head()"
   ]
  },
  {
   "cell_type": "code",
   "execution_count": 11,
   "id": "017609bf",
   "metadata": {},
   "outputs": [
    {
     "data": {
      "text/plain": [
       "0     197\n",
       "4     284\n",
       "8     133\n",
       "12     24\n",
       "16     85\n",
       "Name: Holders, dtype: int64"
      ]
     },
     "execution_count": 11,
     "metadata": {},
     "output_type": "execute_result"
    }
   ],
   "source": [
    "frame.loc[isYounger25, 'Holders'].head()"
   ]
  },
  {
   "cell_type": "code",
   "execution_count": 12,
   "id": "256cfd3a",
   "metadata": {},
   "outputs": [
    {
     "data": {
      "text/plain": [
       "0     297\n",
       "4     384\n",
       "8     233\n",
       "12    124\n",
       "16    185\n",
       "20    249\n",
       "24    166\n",
       "28    109\n",
       "32    135\n",
       "36    153\n",
       "40    124\n",
       "44    107\n",
       "48    120\n",
       "52    131\n",
       "56    118\n",
       "60    103\n",
       "Name: Holders, dtype: int64"
      ]
     },
     "execution_count": 12,
     "metadata": {},
     "output_type": "execute_result"
    }
   ],
   "source": [
    "frame.loc[isYounger25, 'Holders'] + 100\n"
   ]
  },
  {
   "cell_type": "code",
   "execution_count": 13,
   "id": "4023ef3e",
   "metadata": {},
   "outputs": [],
   "source": [
    "frame.loc[isYounger25, 'Holders'] = frame.loc[isYounger25, 'Holders'] + 100"
   ]
  },
  {
   "cell_type": "code",
   "execution_count": 14,
   "id": "34439460",
   "metadata": {},
   "outputs": [
    {
     "data": {
      "text/html": [
       "<div>\n",
       "<style scoped>\n",
       "    .dataframe tbody tr th:only-of-type {\n",
       "        vertical-align: middle;\n",
       "    }\n",
       "\n",
       "    .dataframe tbody tr th {\n",
       "        vertical-align: top;\n",
       "    }\n",
       "\n",
       "    .dataframe thead th {\n",
       "        text-align: right;\n",
       "    }\n",
       "</style>\n",
       "<table border=\"1\" class=\"dataframe\">\n",
       "  <thead>\n",
       "    <tr style=\"text-align: right;\">\n",
       "      <th></th>\n",
       "      <th>ID</th>\n",
       "      <th>District</th>\n",
       "      <th>Group</th>\n",
       "      <th>Age</th>\n",
       "      <th>Holders</th>\n",
       "      <th>Claims</th>\n",
       "    </tr>\n",
       "  </thead>\n",
       "  <tbody>\n",
       "    <tr>\n",
       "      <th>0</th>\n",
       "      <td>1</td>\n",
       "      <td>1</td>\n",
       "      <td>&lt;1l</td>\n",
       "      <td>&lt;25</td>\n",
       "      <td>297</td>\n",
       "      <td>38</td>\n",
       "    </tr>\n",
       "    <tr>\n",
       "      <th>1</th>\n",
       "      <td>2</td>\n",
       "      <td>1</td>\n",
       "      <td>&lt;1l</td>\n",
       "      <td>25-29</td>\n",
       "      <td>264</td>\n",
       "      <td>35</td>\n",
       "    </tr>\n",
       "    <tr>\n",
       "      <th>2</th>\n",
       "      <td>3</td>\n",
       "      <td>1</td>\n",
       "      <td>&lt;1l</td>\n",
       "      <td>30-35</td>\n",
       "      <td>246</td>\n",
       "      <td>19</td>\n",
       "    </tr>\n",
       "    <tr>\n",
       "      <th>3</th>\n",
       "      <td>4</td>\n",
       "      <td>1</td>\n",
       "      <td>&lt;1l</td>\n",
       "      <td>&gt;35</td>\n",
       "      <td>1680</td>\n",
       "      <td>156</td>\n",
       "    </tr>\n",
       "    <tr>\n",
       "      <th>4</th>\n",
       "      <td>5</td>\n",
       "      <td>1</td>\n",
       "      <td>1-1.5l</td>\n",
       "      <td>&lt;25</td>\n",
       "      <td>384</td>\n",
       "      <td>63</td>\n",
       "    </tr>\n",
       "  </tbody>\n",
       "</table>\n",
       "</div>"
      ],
      "text/plain": [
       "   ID  District   Group    Age  Holders  Claims\n",
       "0   1         1     <1l    <25      297      38\n",
       "1   2         1     <1l  25-29      264      35\n",
       "2   3         1     <1l  30-35      246      19\n",
       "3   4         1     <1l    >35     1680     156\n",
       "4   5         1  1-1.5l    <25      384      63"
      ]
     },
     "execution_count": 14,
     "metadata": {},
     "output_type": "execute_result"
    }
   ],
   "source": [
    "frame.head()"
   ]
  },
  {
   "cell_type": "code",
   "execution_count": 15,
   "id": "7720d411",
   "metadata": {},
   "outputs": [],
   "source": [
    "frame.loc[isYounger25, 'Holders'] += 1000"
   ]
  },
  {
   "cell_type": "code",
   "execution_count": 16,
   "id": "9cfc314d",
   "metadata": {},
   "outputs": [
    {
     "data": {
      "text/html": [
       "<div>\n",
       "<style scoped>\n",
       "    .dataframe tbody tr th:only-of-type {\n",
       "        vertical-align: middle;\n",
       "    }\n",
       "\n",
       "    .dataframe tbody tr th {\n",
       "        vertical-align: top;\n",
       "    }\n",
       "\n",
       "    .dataframe thead th {\n",
       "        text-align: right;\n",
       "    }\n",
       "</style>\n",
       "<table border=\"1\" class=\"dataframe\">\n",
       "  <thead>\n",
       "    <tr style=\"text-align: right;\">\n",
       "      <th></th>\n",
       "      <th>ID</th>\n",
       "      <th>District</th>\n",
       "      <th>Group</th>\n",
       "      <th>Age</th>\n",
       "      <th>Holders</th>\n",
       "      <th>Claims</th>\n",
       "    </tr>\n",
       "  </thead>\n",
       "  <tbody>\n",
       "    <tr>\n",
       "      <th>0</th>\n",
       "      <td>1</td>\n",
       "      <td>1</td>\n",
       "      <td>&lt;1l</td>\n",
       "      <td>&lt;25</td>\n",
       "      <td>1297</td>\n",
       "      <td>38</td>\n",
       "    </tr>\n",
       "    <tr>\n",
       "      <th>1</th>\n",
       "      <td>2</td>\n",
       "      <td>1</td>\n",
       "      <td>&lt;1l</td>\n",
       "      <td>25-29</td>\n",
       "      <td>264</td>\n",
       "      <td>35</td>\n",
       "    </tr>\n",
       "    <tr>\n",
       "      <th>2</th>\n",
       "      <td>3</td>\n",
       "      <td>1</td>\n",
       "      <td>&lt;1l</td>\n",
       "      <td>30-35</td>\n",
       "      <td>246</td>\n",
       "      <td>19</td>\n",
       "    </tr>\n",
       "    <tr>\n",
       "      <th>3</th>\n",
       "      <td>4</td>\n",
       "      <td>1</td>\n",
       "      <td>&lt;1l</td>\n",
       "      <td>&gt;35</td>\n",
       "      <td>1680</td>\n",
       "      <td>156</td>\n",
       "    </tr>\n",
       "    <tr>\n",
       "      <th>4</th>\n",
       "      <td>5</td>\n",
       "      <td>1</td>\n",
       "      <td>1-1.5l</td>\n",
       "      <td>&lt;25</td>\n",
       "      <td>1384</td>\n",
       "      <td>63</td>\n",
       "    </tr>\n",
       "  </tbody>\n",
       "</table>\n",
       "</div>"
      ],
      "text/plain": [
       "   ID  District   Group    Age  Holders  Claims\n",
       "0   1         1     <1l    <25     1297      38\n",
       "1   2         1     <1l  25-29      264      35\n",
       "2   3         1     <1l  30-35      246      19\n",
       "3   4         1     <1l    >35     1680     156\n",
       "4   5         1  1-1.5l    <25     1384      63"
      ]
     },
     "execution_count": 16,
     "metadata": {},
     "output_type": "execute_result"
    }
   ],
   "source": [
    "frame.head()"
   ]
  },
  {
   "cell_type": "code",
   "execution_count": null,
   "id": "03794f70",
   "metadata": {},
   "outputs": [],
   "source": []
  }
 ],
 "metadata": {
  "kernelspec": {
   "display_name": "Python 3 (ipykernel)",
   "language": "python",
   "name": "python3"
  },
  "language_info": {
   "codemirror_mode": {
    "name": "ipython",
    "version": 3
   },
   "file_extension": ".py",
   "mimetype": "text/x-python",
   "name": "python",
   "nbconvert_exporter": "python",
   "pygments_lexer": "ipython3",
   "version": "3.8.12"
  }
 },
 "nbformat": 4,
 "nbformat_minor": 5
}
