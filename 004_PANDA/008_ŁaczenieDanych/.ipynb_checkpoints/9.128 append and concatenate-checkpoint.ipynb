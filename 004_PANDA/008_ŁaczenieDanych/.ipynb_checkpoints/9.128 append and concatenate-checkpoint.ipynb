{
 "cells": [
  {
   "cell_type": "code",
   "execution_count": 1,
   "id": "0ab2e4bf",
   "metadata": {},
   "outputs": [],
   "source": [
    "import pandas as pd\n",
    "import numpy as np\n",
    "import matplotlib.pyplot as plt\n",
    "import math as math\n",
    "import random as rd\n",
    "from datetime import datetime\n",
    "from datetime import timedelta\n",
    "import time"
   ]
  },
  {
   "cell_type": "code",
   "execution_count": 15,
   "id": "6db6a9fa",
   "metadata": {},
   "outputs": [],
   "source": [
    "categories = pd.read_csv('categories1.csv')\n",
    "products = pd.read_csv('products.csv')\n",
    "suppiers = pd.read_csv('suppliers.csv')\n",
    "customers = pd.read_csv('customers.csv')"
   ]
  },
  {
   "cell_type": "code",
   "execution_count": 18,
   "id": "21063894",
   "metadata": {},
   "outputs": [],
   "source": [
    "suppiers = pd.read_csv('suppliers.csv', usecols=['SupplierID', 'CompanyName',  'Country'])"
   ]
  },
  {
   "cell_type": "code",
   "execution_count": 16,
   "id": "7e4830d4",
   "metadata": {},
   "outputs": [
    {
     "data": {
      "text/plain": [
       "Index(['SupplierID', 'CompanyName', 'ContactName', 'ContactTitle', 'Address',\n",
       "       'City', 'Region', 'PostalCode', 'Country', 'Phone', 'Fax', 'HomePage'],\n",
       "      dtype='object')"
      ]
     },
     "execution_count": 16,
     "metadata": {},
     "output_type": "execute_result"
    }
   ],
   "source": [
    "suppiers.columns"
   ]
  },
  {
   "cell_type": "code",
   "execution_count": null,
   "id": "a3aa5379",
   "metadata": {},
   "outputs": [],
   "source": []
  }
 ],
 "metadata": {
  "kernelspec": {
   "display_name": "Python 3 (ipykernel)",
   "language": "python",
   "name": "python3"
  },
  "language_info": {
   "codemirror_mode": {
    "name": "ipython",
    "version": 3
   },
   "file_extension": ".py",
   "mimetype": "text/x-python",
   "name": "python",
   "nbconvert_exporter": "python",
   "pygments_lexer": "ipython3",
   "version": "3.8.12"
  }
 },
 "nbformat": 4,
 "nbformat_minor": 5
}
